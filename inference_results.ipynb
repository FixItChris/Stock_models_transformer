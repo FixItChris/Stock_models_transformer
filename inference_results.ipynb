{
 "cells": [
  {
   "cell_type": "code",
   "execution_count": 1,
   "metadata": {},
   "outputs": [],
   "source": [
    "import numpy as np\n",
    "import pandas as pd\n",
    "from sklearn.preprocessing import StandardScaler\n",
    "import pickle\n",
    "\n",
    "from EcmP_supervised.utils.metrics import metric, MAE, MAPE"
   ]
  },
  {
   "cell_type": "code",
   "execution_count": 2,
   "metadata": {},
   "outputs": [],
   "source": [
    "def data_inverse(label_c, original_dimension, original_position, scaler): #original dimensino(2D) without the label_c column\n",
    "    temp_matrix = np.full(original_dimension, 0, np.float32)\n",
    "    temp_matrix = np.insert(temp_matrix, original_position, label_c, axis=1)\n",
    "    return scaler.inverse_transform(temp_matrix)[:, original_position]"
   ]
  },
  {
   "cell_type": "code",
   "execution_count": 3,
   "metadata": {},
   "outputs": [],
   "source": [
    "def data_inverse_(label_c, original_dimension, original_position, scaler): #original dimensino(2D) without the label_c column\n",
    "    temp_matrix = np.full(original_dimension, 0, np.float32)\n",
    "    temp_matrix = np.insert(temp_matrix, original_position, label_c, axis=1)\n",
    "    return scaler.inverse_transform(temp_matrix)[:, original_position]"
   ]
  },
  {
   "cell_type": "code",
   "execution_count": 4,
   "metadata": {},
   "outputs": [
    {
     "name": "stdout",
     "output_type": "stream",
     "text": [
      "(162, 10, 1)\n",
      "(10,)\n"
     ]
    }
   ],
   "source": [
    "\n",
    "\n",
    "scaler_path = r'./scaler/AAPL_pct/AAPL_pct_60_10.pkl'\n",
    "\n",
    "\n",
    "path_common = r'inference_results\\PTFT2016V2PCIE_AAPL_pct_60_10_EcmP_mk3_stock_custom_pred_ftMS_sl60_ll0_pl10_dm108_dp0_pl5_nh3_el3_dl1_df256_fc1_ebtimeF_test_dcomp0_kn9_MLP_None_rv1_close_pct_change'\n",
    "\n",
    "\n",
    "# metrics_path = path_common + r'\\metrics.npy'\n",
    "\n",
    "pred_path = path_common + r'\\real_prediction.npy'\n",
    "\n",
    "# true_path = path_common + r'\\true.npy'\n",
    "\n",
    "\n",
    "# metrics_path = r'results\\sp500_index_pct_spec_s_7_1_PatchTST_stock_custom_ftMS_sl7_ll2_pl1_dm128_nh4_el2_dl1_df128_fc1_ebtimeF_dtTrue_Exp_0\\metrics.npy'\n",
    "\n",
    "# pred_path = r'results\\sp500_index_pct_spec_s_7_1_PatchTST_stock_custom_ftMS_sl7_ll2_pl1_dm128_nh4_el2_dl1_df128_fc1_ebtimeF_dtTrue_Exp_0\\pred.npy'\n",
    "\n",
    "# true_path = r'results\\sp500_index_pct_spec_s_7_1_PatchTST_stock_custom_ftMS_sl7_ll2_pl1_dm128_nh4_el2_dl1_df128_fc1_ebtimeF_dtTrue_Exp_0\\true.npy'\n",
    "\n",
    "\n",
    "\n",
    "\n",
    "#load scaler\n",
    "scaler = None\n",
    "\n",
    "with open(scaler_path, 'rb') as f:\n",
    "    scaler = pickle.load(f)\n",
    "\n",
    "\n",
    "n_column = (scaler.n_features_in_) - 1\n",
    "\n",
    "\n",
    "# metrics = np.load(metrics_path, allow_pickle=True)\n",
    "# print(metrics)\n",
    "\n",
    "pred_raw = np.load(pred_path)\n",
    "print(pred_raw.shape)\n",
    "\n",
    "\n",
    "#testing, get the lastest one\n",
    "lastest_pred = pred_raw[-2, :, :]\n",
    "lastest_pred = lastest_pred.reshape((lastest_pred.shape[0]))\n",
    "print(lastest_pred.shape)\n",
    "pred = data_inverse(lastest_pred, (lastest_pred.shape[0], n_column), n_column, scaler)\n",
    "\n",
    "\n",
    "# pred_raw = pred_raw.reshape((pred_raw.shape[0]))\n",
    "# pred = data_inverse(pred_raw, (pred_raw.shape[0], n_column), n_column, scaler)\n",
    "# print(pred_raw[:10])\n",
    "# print(pred[:10])\n",
    "# print(pred.shape)\n",
    "# print(pred_raw.shape)\n",
    "\n",
    "# true_raw = np.load(true_path)\n",
    "#      = true_raw.reshape((true_raw.shape[0]))\n",
    "# true = data_inverse(true_raw, (true_raw.shape[0], n_column), n_column, scaler=scaler)\n",
    "# print(true_raw[:10]) \n",
    "# print(true[:10])\n",
    "# print(true.shape)\n",
    "# print(true_raw.shape)\n",
    "\n"
   ]
  },
  {
   "cell_type": "code",
   "execution_count": 5,
   "metadata": {},
   "outputs": [
    {
     "name": "stdout",
     "output_type": "stream",
     "text": [
      "[ 4.349503   -1.7203684  -0.26898214 -2.1530712   0.68247825 -1.6508878\n",
      " -0.6417529   2.0754447   0.59768504  0.92899567]\n"
     ]
    }
   ],
   "source": [
    "print(pred)"
   ]
  },
  {
   "cell_type": "markdown",
   "metadata": {},
   "source": [
    "[ 4.349503   -1.7203684  -0.26898214 -2.1530712   0.68247825 -1.6508878\n",
    " -0.6417529   2.0754447   0.59768504  0.92899567]"
   ]
  },
  {
   "cell_type": "code",
   "execution_count": 6,
   "metadata": {},
   "outputs": [
    {
     "data": {
      "text/plain": [
       "(162, 10, 1)"
      ]
     },
     "execution_count": 6,
     "metadata": {},
     "output_type": "execute_result"
    }
   ],
   "source": [
    "pred_raw.shape"
   ]
  },
  {
   "cell_type": "code",
   "execution_count": 7,
   "metadata": {},
   "outputs": [
    {
     "ename": "NameError",
     "evalue": "name 'true' is not defined",
     "output_type": "error",
     "traceback": [
      "\u001b[1;31m---------------------------------------------------------------------------\u001b[0m",
      "\u001b[1;31mNameError\u001b[0m                                 Traceback (most recent call last)",
      "Cell \u001b[1;32mIn[7], line 1\u001b[0m\n\u001b[1;32m----> 1\u001b[0m mae \u001b[38;5;241m=\u001b[39m MAE(pred, \u001b[43mtrue\u001b[49m)\n\u001b[0;32m      2\u001b[0m mape \u001b[38;5;241m=\u001b[39m MAPE(pred, true)\n",
      "\u001b[1;31mNameError\u001b[0m: name 'true' is not defined"
     ]
    }
   ],
   "source": [
    "mae = MAE(pred, true)\n",
    "mape = MAPE(pred, true)\n"
   ]
  },
  {
   "cell_type": "code",
   "execution_count": null,
   "metadata": {},
   "outputs": [],
   "source": [
    "print(\"MAE : {}\".format(mae))\n",
    "print(\"MAPE : %.10f\"%(mape))"
   ]
  },
  {
   "cell_type": "code",
   "execution_count": null,
   "metadata": {},
   "outputs": [],
   "source": [
    "import matplotlib.pyplot as plt\n",
    "\n",
    "time_axis = np.arange(len(pred))\n",
    "plt.figure(figsize=(12, 6))\n",
    "\n",
    "plt.plot(time_axis, true, label='True Values', linewidth=0.6)\n",
    "plt.plot(time_axis, pred, label='Predictions', linewidth=0.6)\n",
    "\n",
    "plt.xlabel('Time(Day)')\n",
    "plt.ylabel('Value')\n",
    "plt.title('True vs Predicted Values for Nikkei 225 Index Data')\n",
    "plt.legend()\n",
    "\n",
    "plt.show()"
   ]
  },
  {
   "cell_type": "code",
   "execution_count": null,
   "metadata": {},
   "outputs": [],
   "source": [
    "import matplotlib.pyplot as plt\n",
    "\n",
    "last_value = 350\n",
    "\n",
    "\n",
    "time_axis = np.arange(len(pred[-last_value:]))\n",
    "plt.figure(figsize=(12, 6))\n",
    "\n",
    "plt.plot(time_axis, true[-last_value:], label='True Values', linewidth=0.6)\n",
    "plt.plot(time_axis, pred[-last_value:], label='Predictions', linewidth=0.6)\n",
    "\n",
    "plt.xlabel('Time(Day)')\n",
    "plt.ylabel('Value')\n",
    "plt.title('True vs Predicted Values for S&P500 Index Data For Last {} Days'.format(last_value))\n",
    "plt.legend()\n",
    "\n",
    "plt.show()"
   ]
  },
  {
   "cell_type": "code",
   "execution_count": null,
   "metadata": {},
   "outputs": [],
   "source": [
    "type(mae)"
   ]
  },
  {
   "cell_type": "code",
   "execution_count": null,
   "metadata": {},
   "outputs": [],
   "source": [
    "type(pred_raw)"
   ]
  },
  {
   "cell_type": "code",
   "execution_count": null,
   "metadata": {},
   "outputs": [],
   "source": [
    "import torch \n",
    "\n",
    "print(type(torch.tensor(5).double()))\n",
    "\n",
    "print((torch.tensor(5).double()).dtype)\n",
    "\n",
    "print(torch.Tensor([5.23, 24.32]).dtype)\n",
    "\n",
    "torch.Tensor([5.23, 24.32]).to('cuda')\n"
   ]
  },
  {
   "cell_type": "code",
   "execution_count": null,
   "metadata": {},
   "outputs": [],
   "source": []
  }
 ],
 "metadata": {
  "kernelspec": {
   "display_name": "pythondev39_20230516",
   "language": "python",
   "name": "python3"
  },
  "language_info": {
   "codemirror_mode": {
    "name": "ipython",
    "version": 3
   },
   "file_extension": ".py",
   "mimetype": "text/x-python",
   "name": "python",
   "nbconvert_exporter": "python",
   "pygments_lexer": "ipython3",
   "version": "3.9.16"
  },
  "orig_nbformat": 4
 },
 "nbformat": 4,
 "nbformat_minor": 2
}
