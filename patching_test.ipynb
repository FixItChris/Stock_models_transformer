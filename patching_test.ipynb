{
 "cells": [
  {
   "cell_type": "code",
   "execution_count": 1,
   "metadata": {},
   "outputs": [],
   "source": [
    "import torch\n",
    "import numpy as np\n",
    "#import pandas as pd"
   ]
  },
  {
   "cell_type": "code",
   "execution_count": 2,
   "metadata": {},
   "outputs": [
    {
     "name": "stdout",
     "output_type": "stream",
     "text": [
      "torch.Size([1, 2, 3])\n",
      "tensor([[[  2.9040,   1.5302,  -2.7371,  -2.7148,  -1.6294,  -1.0592,  -3.5222,\n",
      "           -0.3397,   0.9935,  -2.4107,  -1.4018,  -0.4002,   0.8688,  -0.9846,\n",
      "            1.2634,   2.8140],\n",
      "         [ 34.5277,   8.8665, -45.2440, -61.0241,  12.9069, -65.4946, -54.6975,\n",
      "          -45.7423,  26.0041, -53.3968,   2.2561, -31.3069,  -9.1893, -61.5312,\n",
      "           51.0009,  65.3407]]], grad_fn=<AddBackward0>)\n",
      "torch.Size([1, 2, 16])\n",
      "tensor([[  2.9040,   1.5302,  -2.7371,  -2.7148,  -1.6294,  -1.0592,  -3.5222,\n",
      "          -0.3397,   0.9935,  -2.4107,  -1.4018,  -0.4002,   0.8688,  -0.9846,\n",
      "           1.2634,   2.8140,  34.5277,   8.8665, -45.2440, -61.0241,  12.9069,\n",
      "         -65.4946, -54.6975, -45.7423,  26.0041, -53.3968,   2.2561, -31.3069,\n",
      "          -9.1893, -61.5312,  51.0009,  65.3407]], grad_fn=<ViewBackward0>)\n",
      "tensor([[-45.1112,  -9.5030,  14.2948, -26.5046,  -7.6946,  -1.6786,   6.1004,\n",
      "           9.8166,   1.4149,  24.5514,  -2.7491,  32.6801,   2.7385,  10.4387,\n",
      "         -13.1709, -15.7728,  21.1584,  15.9011,  -5.4708,  16.3186, -18.1457,\n",
      "         -32.5105,  -9.2978,   0.4219]], grad_fn=<AddmmBackward0>)\n",
      "torch.Size([1, 24])\n"
     ]
    }
   ],
   "source": [
    "# idea 1, 2 stages patching\n",
    "\n",
    "test_input = torch.tensor([[[5,2,3], [123,4,7]]]).float()   #shape (2,3)\n",
    "\n",
    "print(test_input.shape)\n",
    "\n",
    "# each patch into embedding\n",
    "\n",
    "d_model = 24\n",
    "d_patch = 16\n",
    "\n",
    "w_patch_indv = torch.nn.Linear(test_input.shape[-1], d_patch)\n",
    "\n",
    "x = w_patch_indv(test_input)\n",
    "\n",
    "print(x)\n",
    "print(x.shape)\n",
    "\n",
    "#flatten channels\n",
    "\n",
    "x = x.view(test_input.shape[0],-1)\n",
    "\n",
    "print(x)\n",
    "\n",
    "\n",
    "\n",
    "# merge each channels into the patches\n",
    "\n",
    "w_channel_m = torch.nn.Linear(x.shape[-1], d_model)\n",
    "\n",
    "x = w_channel_m(x)\n",
    "\n",
    "print(x)\n",
    "print(x.shape)\n"
   ]
  },
  {
   "cell_type": "code",
   "execution_count": 3,
   "metadata": {},
   "outputs": [
    {
     "data": {
      "text/plain": [
       "True"
      ]
     },
     "execution_count": 3,
     "metadata": {},
     "output_type": "execute_result"
    }
   ],
   "source": [
    "torch.cuda.is_available()"
   ]
  },
  {
   "cell_type": "code",
   "execution_count": 5,
   "metadata": {},
   "outputs": [
    {
     "data": {
      "text/plain": [
       "tensor([[[  5.,   2.,   3.],\n",
       "         [123.,   4.,   7.]]])"
      ]
     },
     "execution_count": 5,
     "metadata": {},
     "output_type": "execute_result"
    }
   ],
   "source": [
    "test_input[:,:,:]"
   ]
  },
  {
   "cell_type": "code",
   "execution_count": null,
   "metadata": {},
   "outputs": [],
   "source": []
  }
 ],
 "metadata": {
  "kernelspec": {
   "display_name": "Pytorch_1_11",
   "language": "python",
   "name": "python3"
  },
  "language_info": {
   "codemirror_mode": {
    "name": "ipython",
    "version": 3
   },
   "file_extension": ".py",
   "mimetype": "text/x-python",
   "name": "python",
   "nbconvert_exporter": "python",
   "pygments_lexer": "ipython3",
   "version": "3.8.5"
  }
 },
 "nbformat": 4,
 "nbformat_minor": 2
}
