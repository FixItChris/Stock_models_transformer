{
 "cells": [
  {
   "cell_type": "code",
   "execution_count": 1,
   "metadata": {},
   "outputs": [
    {
     "name": "stderr",
     "output_type": "stream",
     "text": [
      "c:\\Users\\Vincent\\.conda\\envs\\Pytorch_1_11\\lib\\site-packages\\tqdm\\auto.py:22: TqdmWarning: IProgress not found. Please update jupyter and ipywidgets. See https://ipywidgets.readthedocs.io/en/stable/user_install.html\n",
      "  from .autonotebook import tqdm as notebook_tqdm\n"
     ]
    }
   ],
   "source": [
    "import torch\n",
    "import numpy as np\n",
    "#import pandas as pd\n",
    "\n",
    "from EcmP_supervised.layers.EcmP_layers import series_decomp"
   ]
  },
  {
   "cell_type": "code",
   "execution_count": 6,
   "metadata": {},
   "outputs": [
    {
     "name": "stdout",
     "output_type": "stream",
     "text": [
      "torch.Size([1, 2, 3])\n",
      "tensor([[[  0.8136,   1.1169,   0.3454,  -2.2691,   1.4340,   2.2030,  -4.3210,\n",
      "           -1.4900,   0.3377,   3.3877,  -4.1011,  -2.7281,   1.9255,   1.6201,\n",
      "           -3.6247,  -1.9479],\n",
      "         [ 63.7521,  38.7186, -28.1333, -62.2381,  22.3293,   0.2731, -60.4720,\n",
      "           -2.5868,   4.4808,  63.2928, -67.1241, -25.4295,  16.7008,  66.2117,\n",
      "          -59.7428, -60.1647]]], grad_fn=<AddBackward0>)\n",
      "torch.Size([1, 2, 16])\n",
      "torch.Size([1, 32])\n",
      "tensor([[ 20.2115,   3.0888,   1.0161,  51.9251,  -9.8811,  14.5502,  -3.2287,\n",
      "         -13.1822,  36.2783,  21.5806,   4.8223,  24.2714, -21.6600,  -0.6491,\n",
      "         -12.3721,   8.5407,  34.7497,  24.1908,   8.9852, -26.6065,   6.9476,\n",
      "          21.4202, -12.6643, -19.5497]], grad_fn=<AddmmBackward0>)\n",
      "24\n"
     ]
    }
   ],
   "source": [
    "# idea 1, 2 stages patching\n",
    "\n",
    "test_input = torch.tensor([[[5,2,3], [123,4,7]]]).float()   #shape (1,2,3)\n",
    "\n",
    "print(test_input.shape)\n",
    "\n",
    "# each patch into embedding\n",
    "\n",
    "d_model = 24\n",
    "d_patch = 16\n",
    "\n",
    "w_patch_indv = torch.nn.Linear(test_input.shape[-1], d_patch)\n",
    "\n",
    "x = w_patch_indv(test_input)\n",
    "\n",
    "print(x)\n",
    "print(x.shape)\n",
    "\n",
    "#flatten channels\n",
    "\n",
    "x = x.view(test_input.shape[0],-1)\n",
    "\n",
    "print(x.shape)\n",
    "\n",
    "\n",
    "\n",
    "# merge each channels into the patches\n",
    "\n",
    "w_channel_m = torch.nn.Linear(x.shape[-1], d_model)\n",
    "\n",
    "x = w_channel_m(x)\n",
    "\n",
    "print(x)\n",
    "print(x.shape[1])\n"
   ]
  },
  {
   "cell_type": "code",
   "execution_count": 3,
   "metadata": {},
   "outputs": [
    {
     "data": {
      "text/plain": [
       "True"
      ]
     },
     "execution_count": 3,
     "metadata": {},
     "output_type": "execute_result"
    }
   ],
   "source": [
    "torch.cuda.is_available()"
   ]
  },
  {
   "cell_type": "code",
   "execution_count": 5,
   "metadata": {},
   "outputs": [
    {
     "data": {
      "text/plain": [
       "tensor([[[  5.,   2.,   3.],\n",
       "         [123.,   4.,   7.]]])"
      ]
     },
     "execution_count": 5,
     "metadata": {},
     "output_type": "execute_result"
    }
   ],
   "source": [
    "test_input[:,:,:]"
   ]
  },
  {
   "cell_type": "code",
   "execution_count": 18,
   "metadata": {},
   "outputs": [
    {
     "name": "stdout",
     "output_type": "stream",
     "text": [
      "tensor([[[5, 2],\n",
      "         [5, 2]],\n",
      "\n",
      "        [[1, 8],\n",
      "         [1, 8]]])\n",
      "tensor([[[  1,   1],\n",
      "         [  1,   1]],\n",
      "\n",
      "        [[  1, -10],\n",
      "         [  1, -10]]])\n",
      "torch.Size([2, 2, 2]) torch.Size([2, 2, 2])\n"
     ]
    }
   ],
   "source": [
    "t1 = torch.tensor([[[5,2], [5,2]], [[1,8], [1,8]]])\n",
    "\n",
    "t2 = torch.tensor([[[1,1], [1,1]], [[1,-10], [1,-10]]])\n",
    "\n",
    "print(t1)\n",
    "\n",
    "print(t2)\n",
    "\n",
    "print(t1.shape, t2.shape)"
   ]
  },
  {
   "cell_type": "code",
   "execution_count": 19,
   "metadata": {},
   "outputs": [
    {
     "name": "stdout",
     "output_type": "stream",
     "text": [
      "tensor([[[ 6,  3],\n",
      "         [ 6,  3]],\n",
      "\n",
      "        [[ 2, -2],\n",
      "         [ 2, -2]]])\n",
      "torch.Size([2, 2, 2])\n"
     ]
    }
   ],
   "source": [
    "t3 = t1 + t2\n",
    "\n",
    "print(t3)\n",
    "print(t3.shape)"
   ]
  },
  {
   "cell_type": "code",
   "execution_count": 20,
   "metadata": {},
   "outputs": [
    {
     "name": "stdout",
     "output_type": "stream",
     "text": [
      "tensor([[ 6,  3,  6,  3],\n",
      "        [ 2, -2,  2, -2]])\n",
      "torch.Size([2, 4])\n"
     ]
    }
   ],
   "source": [
    "t4 = torch.reshape(t3, (t3.shape[0], t3.shape[1] * t3.shape[2]))\n",
    "print(t4)\n",
    "print(t4.shape)"
   ]
  },
  {
   "cell_type": "code",
   "execution_count": 24,
   "metadata": {},
   "outputs": [
    {
     "name": "stdout",
     "output_type": "stream",
     "text": [
      "tensor([1, 2, 3])\n",
      "torch.Size([3])\n",
      "tensor([[1, 2, 3, 1, 2, 3],\n",
      "        [1, 2, 3, 1, 2, 3],\n",
      "        [1, 2, 3, 1, 2, 3],\n",
      "        [1, 2, 3, 1, 2, 3]])\n",
      "torch.Size([4, 6])\n",
      "tensor([[[1, 2, 3],\n",
      "         [1, 2, 3]],\n",
      "\n",
      "        [[1, 2, 3],\n",
      "         [1, 2, 3]],\n",
      "\n",
      "        [[1, 2, 3],\n",
      "         [1, 2, 3]],\n",
      "\n",
      "        [[1, 2, 3],\n",
      "         [1, 2, 3]]])\n",
      "torch.Size([4, 2, 3])\n"
     ]
    }
   ],
   "source": [
    "x = torch.tensor([1, 2, 3])\n",
    "print(x)\n",
    "print(x.shape)\n",
    "\n",
    "x_1 = x.repeat(4, 2)\n",
    "print(x_1)\n",
    "print(x_1.shape)\n",
    "\n",
    "x_2 = x.repeat(4, 2, 1)\n",
    "print(x_2)\n",
    "print(x_2.shape)"
   ]
  },
  {
   "cell_type": "code",
   "execution_count": 25,
   "metadata": {},
   "outputs": [
    {
     "name": "stdout",
     "output_type": "stream",
     "text": [
      "tensor([[-0.7058,  0.7229, -0.4307],\n",
      "        [ 0.0223,  0.0145,  0.8724]])\n",
      "torch.Size([2, 3])\n",
      "tensor([[-0.7058,  0.7229, -0.4307],\n",
      "        [ 0.0223,  0.0145,  0.8724],\n",
      "        [-0.7058,  0.7229, -0.4307],\n",
      "        [ 0.0223,  0.0145,  0.8724],\n",
      "        [-0.7058,  0.7229, -0.4307],\n",
      "        [ 0.0223,  0.0145,  0.8724]])\n",
      "torch.Size([6, 3])\n",
      "tensor([[-0.7058,  0.7229, -0.4307, -0.7058,  0.7229, -0.4307, -0.7058,  0.7229,\n",
      "         -0.4307],\n",
      "        [ 0.0223,  0.0145,  0.8724,  0.0223,  0.0145,  0.8724,  0.0223,  0.0145,\n",
      "          0.8724]])\n",
      "torch.Size([2, 9])\n"
     ]
    }
   ],
   "source": [
    "x = torch.randn(2, 3)\n",
    "print(x)\n",
    "print(x.shape)\n",
    "\n",
    "x_1 = torch.cat((x, x, x), 0)\n",
    "print(x_1)\n",
    "print(x_1.shape)\n",
    "\n",
    "x_2 = torch.cat((x, x, x), 1)\n",
    "print(x_2)\n",
    "print(x_2.shape)"
   ]
  },
  {
   "cell_type": "code",
   "execution_count": null,
   "metadata": {},
   "outputs": [],
   "source": []
  }
 ],
 "metadata": {
  "kernelspec": {
   "display_name": "Pytorch_1_11",
   "language": "python",
   "name": "python3"
  },
  "language_info": {
   "codemirror_mode": {
    "name": "ipython",
    "version": 3
   },
   "file_extension": ".py",
   "mimetype": "text/x-python",
   "name": "python",
   "nbconvert_exporter": "python",
   "pygments_lexer": "ipython3",
   "version": "3.8.5"
  }
 },
 "nbformat": 4,
 "nbformat_minor": 2
}
