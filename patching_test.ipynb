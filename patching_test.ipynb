{
 "cells": [
  {
   "cell_type": "code",
   "execution_count": 2,
   "metadata": {},
   "outputs": [],
   "source": [
    "import torch\n",
    "import numpy as np\n",
    "#import pandas as pd\n",
    "\n",
    "from EcmP_supervised.layers.EcmP_layers import series_decomp"
   ]
  },
  {
   "cell_type": "code",
   "execution_count": 3,
   "metadata": {},
   "outputs": [
    {
     "name": "stdout",
     "output_type": "stream",
     "text": [
      "torch.Size([1, 2, 3])\n",
      "tensor([[[-4.4311e+00,  3.4409e-01,  1.9307e+00, -1.0115e+00, -1.9602e-01,\n",
      "          -1.5067e+00,  7.0424e-01, -8.2680e-01,  3.2022e+00,  3.2146e+00,\n",
      "           2.5586e+00, -2.8903e+00,  2.6180e-01,  3.0770e+00,  6.2029e-02,\n",
      "          -1.3673e+00],\n",
      "         [-6.4032e+01,  4.4100e+01,  3.3211e+01, -3.2573e+01, -1.7967e+01,\n",
      "          -4.8011e+01, -3.8599e+00, -2.1378e+01,  5.4975e+01,  3.6758e+01,\n",
      "           5.8617e+01, -1.8548e+01, -4.8269e+00,  4.8751e+01, -3.4251e+01,\n",
      "          -4.1559e+00]]], grad_fn=<AddBackward0>)\n",
      "torch.Size([1, 2, 16])\n",
      "torch.Size([1, 32])\n",
      "tensor([[ 38.5087, -12.9167, -16.1899,   4.5754, -16.6418,  10.5746,   6.0573,\n",
      "         -29.7502, -20.0779, -17.5315,  24.4538,  -1.7213, -13.9729,   9.5615,\n",
      "          -1.0221, -16.2994,  27.6938, -19.2946, -25.1626,   4.8231,   3.7002,\n",
      "          -4.6443,  15.7647,  -2.9792]], grad_fn=<AddmmBackward0>)\n",
      "torch.Size([1, 24])\n"
     ]
    }
   ],
   "source": [
    "# idea 1, 2 stages patching\n",
    "\n",
    "test_input = torch.tensor([[[5,2,3], [123,4,7]]]).float()   #shape (1,2,3)\n",
    "\n",
    "print(test_input.shape)\n",
    "\n",
    "# each patch into embedding\n",
    "\n",
    "d_model = 24\n",
    "d_patch = 16\n",
    "\n",
    "w_patch_indv = torch.nn.Linear(test_input.shape[-1], d_patch)\n",
    "\n",
    "x = w_patch_indv(test_input)\n",
    "\n",
    "print(x)\n",
    "print(x.shape)\n",
    "\n",
    "#flatten channels\n",
    "\n",
    "x = x.view(test_input.shape[0],-1)\n",
    "\n",
    "print(x.shape)\n",
    "\n",
    "\n",
    "\n",
    "# merge each channels into the patches\n",
    "\n",
    "w_channel_m = torch.nn.Linear(x.shape[-1], d_model)\n",
    "\n",
    "x = w_channel_m(x)\n",
    "\n",
    "print(x)\n",
    "print(x.shape)\n"
   ]
  },
  {
   "cell_type": "code",
   "execution_count": 4,
   "metadata": {},
   "outputs": [
    {
     "data": {
      "text/plain": [
       "True"
      ]
     },
     "execution_count": 4,
     "metadata": {},
     "output_type": "execute_result"
    }
   ],
   "source": [
    "torch.cuda.is_available()"
   ]
  },
  {
   "cell_type": "code",
   "execution_count": 5,
   "metadata": {},
   "outputs": [
    {
     "data": {
      "text/plain": [
       "tensor([[[  5.,   2.,   3.],\n",
       "         [123.,   4.,   7.]]])"
      ]
     },
     "execution_count": 5,
     "metadata": {},
     "output_type": "execute_result"
    }
   ],
   "source": [
    "test_input[:,:,:]"
   ]
  },
  {
   "cell_type": "code",
   "execution_count": 6,
   "metadata": {},
   "outputs": [],
   "source": [
    "t1 = torch.tensor([[[5,2]], [[1,8]]])\n",
    "\n",
    "t2 = torch.tensor([[[1,1]], [[1,1]]])"
   ]
  },
  {
   "cell_type": "code",
   "execution_count": 7,
   "metadata": {},
   "outputs": [
    {
     "name": "stdout",
     "output_type": "stream",
     "text": [
      "tensor([[[0.2699],\n",
      "         [0.0483],\n",
      "         [0.8931],\n",
      "         [0.8853],\n",
      "         [0.2695]],\n",
      "\n",
      "        [[0.4461],\n",
      "         [0.9978],\n",
      "         [0.7728],\n",
      "         [0.1371],\n",
      "         [0.8768]]])\n"
     ]
    }
   ],
   "source": [
    "x1 = torch.rand([2,5,1])\n",
    "\n",
    "print(x1)"
   ]
  },
  {
   "cell_type": "code",
   "execution_count": 8,
   "metadata": {},
   "outputs": [
    {
     "ename": "NameError",
     "evalue": "name 's_d' is not defined",
     "output_type": "error",
     "traceback": [
      "\u001b[1;31m---------------------------------------------------------------------------\u001b[0m",
      "\u001b[1;31mNameError\u001b[0m                                 Traceback (most recent call last)",
      "Cell \u001b[1;32mIn[8], line 1\u001b[0m\n\u001b[1;32m----> 1\u001b[0m y1, y2 \u001b[38;5;241m=\u001b[39m \u001b[43ms_d\u001b[49m(x1)\n",
      "\u001b[1;31mNameError\u001b[0m: name 's_d' is not defined"
     ]
    }
   ],
   "source": [
    "y1, y2 = s_d(x1)"
   ]
  },
  {
   "cell_type": "code",
   "execution_count": null,
   "metadata": {},
   "outputs": [
    {
     "name": "stdout",
     "output_type": "stream",
     "text": [
      "tensor([[[ 0.0683],\n",
      "         [-0.0774],\n",
      "         [-0.0274],\n",
      "         [-0.0281],\n",
      "         [ 0.0645]],\n",
      "\n",
      "        [[-0.0493],\n",
      "         [ 0.1223],\n",
      "         [-0.1136],\n",
      "         [ 0.1379],\n",
      "         [-0.0974]]])\n",
      "tensor([[[0.1734],\n",
      "         [0.1141],\n",
      "         [0.0912],\n",
      "         [0.2012],\n",
      "         [0.3022]],\n",
      "\n",
      "        [[0.3424],\n",
      "         [0.3186],\n",
      "         [0.3353],\n",
      "         [0.2055],\n",
      "         [0.1486]]])\n"
     ]
    }
   ],
   "source": [
    "print(y1)\n",
    "print(y2)"
   ]
  },
  {
   "cell_type": "code",
   "execution_count": null,
   "metadata": {},
   "outputs": [],
   "source": []
  }
 ],
 "metadata": {
  "kernelspec": {
   "display_name": "Pytorch_1_11",
   "language": "python",
   "name": "python3"
  },
  "language_info": {
   "codemirror_mode": {
    "name": "ipython",
    "version": 3
   },
   "file_extension": ".py",
   "mimetype": "text/x-python",
   "name": "python",
   "nbconvert_exporter": "python",
   "pygments_lexer": "ipython3",
   "version": "3.8.5"
  }
 },
 "nbformat": 4,
 "nbformat_minor": 2
}
