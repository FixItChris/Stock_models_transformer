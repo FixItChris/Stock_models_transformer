{
 "cells": [
  {
   "cell_type": "code",
   "execution_count": 6,
   "metadata": {},
   "outputs": [],
   "source": [
    "import torch\n",
    "import numpy as np\n",
    "#import pandas as pd"
   ]
  },
  {
   "cell_type": "code",
   "execution_count": 7,
   "metadata": {},
   "outputs": [
    {
     "name": "stdout",
     "output_type": "stream",
     "text": [
      "torch.Size([1, 2, 3])\n",
      "tensor([[[  0.8644,  -0.9350,   1.9623,  -0.4483,  -1.9400,  -1.7939,  -2.4361,\n",
      "            2.6278,  -0.7460,  -1.0360,   0.4741,  -0.6072,   2.2550,   1.0718,\n",
      "           -1.0974,  -1.9452],\n",
      "         [ 50.1215,   9.4809,  38.6461,  39.9357, -21.8199, -54.0093, -23.6638,\n",
      "           68.1792, -30.2031, -58.8319,  43.1630, -58.0977,  47.2271,  10.7561,\n",
      "           10.0499, -63.8197]]], grad_fn=<AddBackward0>)\n",
      "torch.Size([1, 2, 16])\n",
      "tensor([[  0.8644,  -0.9350,   1.9623,  -0.4483,  -1.9400,  -1.7939,  -2.4361,\n",
      "           2.6278,  -0.7460,  -1.0360,   0.4741,  -0.6072,   2.2550,   1.0718,\n",
      "          -1.0974,  -1.9452,  50.1215,   9.4809,  38.6461,  39.9357, -21.8199,\n",
      "         -54.0093, -23.6638,  68.1792, -30.2031, -58.8319,  43.1630, -58.0977,\n",
      "          47.2271,  10.7561,  10.0499, -63.8197]], grad_fn=<ViewBackward0>)\n",
      "tensor([[-14.5153,  -0.1267,  39.5719,   7.8428,  48.9234,  12.1633,  27.0821,\n",
      "           8.3776, -31.3476,  14.3631,  19.4341,  -5.6211,  29.1198,   2.3199,\n",
      "          31.2732, -25.0401,  19.4678,  16.0600, -11.1064,   8.3726,  -7.3355,\n",
      "          19.6112,  -8.6755, -15.0636]], grad_fn=<AddmmBackward0>)\n",
      "torch.Size([1, 24])\n"
     ]
    }
   ],
   "source": [
    "# idea 1, 2 stages patching\n",
    "\n",
    "test_input = torch.tensor([[[5,2,3], [123,4,7]]]).float()   #shape (1,2,3)\n",
    "\n",
    "print(test_input.shape)\n",
    "\n",
    "# each patch into embedding\n",
    "\n",
    "d_model = 24\n",
    "d_patch = 16\n",
    "\n",
    "w_patch_indv = torch.nn.Linear(test_input.shape[-1], d_patch)\n",
    "\n",
    "x = w_patch_indv(test_input)\n",
    "\n",
    "print(x)\n",
    "print(x.shape)\n",
    "\n",
    "#flatten channels\n",
    "\n",
    "x = x.view(test_input.shape[0],-1)\n",
    "\n",
    "print(x)\n",
    "\n",
    "\n",
    "\n",
    "# merge each channels into the patches\n",
    "\n",
    "w_channel_m = torch.nn.Linear(x.shape[-1], d_model)\n",
    "\n",
    "x = w_channel_m(x)\n",
    "\n",
    "print(x)\n",
    "print(x.shape)\n"
   ]
  },
  {
   "cell_type": "code",
   "execution_count": 8,
   "metadata": {},
   "outputs": [
    {
     "data": {
      "text/plain": [
       "True"
      ]
     },
     "execution_count": 8,
     "metadata": {},
     "output_type": "execute_result"
    }
   ],
   "source": [
    "torch.cuda.is_available()"
   ]
  },
  {
   "cell_type": "code",
   "execution_count": 9,
   "metadata": {},
   "outputs": [
    {
     "data": {
      "text/plain": [
       "tensor([[[  5.,   2.,   3.],\n",
       "         [123.,   4.,   7.]]])"
      ]
     },
     "execution_count": 9,
     "metadata": {},
     "output_type": "execute_result"
    }
   ],
   "source": [
    "test_input[:,:,:]"
   ]
  },
  {
   "cell_type": "code",
   "execution_count": null,
   "metadata": {},
   "outputs": [],
   "source": []
  }
 ],
 "metadata": {
  "kernelspec": {
   "display_name": "Pytorch_1_11",
   "language": "python",
   "name": "python3"
  },
  "language_info": {
   "codemirror_mode": {
    "name": "ipython",
    "version": 3
   },
   "file_extension": ".py",
   "mimetype": "text/x-python",
   "name": "python",
   "nbconvert_exporter": "python",
   "pygments_lexer": "ipython3",
   "version": "3.8.5"
  }
 },
 "nbformat": 4,
 "nbformat_minor": 2
}
