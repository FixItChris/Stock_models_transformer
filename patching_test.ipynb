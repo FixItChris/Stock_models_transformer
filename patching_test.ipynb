{
 "cells": [
  {
   "cell_type": "code",
   "execution_count": 1,
   "metadata": {},
   "outputs": [],
   "source": [
    "import torch\n",
    "import numpy as np\n",
    "#import pandas as pd"
   ]
  },
  {
   "cell_type": "code",
   "execution_count": 2,
   "metadata": {},
   "outputs": [
    {
     "name": "stdout",
     "output_type": "stream",
     "text": [
      "torch.Size([1, 2, 3])\n",
      "tensor([[[ 1.8122e+00,  8.0565e-01, -1.0789e+00, -2.9956e+00, -4.8203e-02,\n",
      "           2.5044e+00,  2.5577e+00,  2.0470e+00, -8.0749e-03,  1.1986e+00,\n",
      "           2.2260e-01, -3.1251e+00, -1.5328e-01,  1.9644e+00,  2.2427e+00,\n",
      "          -2.1394e+00],\n",
      "         [ 4.8488e+01,  2.6191e+01, -7.1233e+00, -5.4119e+01,  4.9041e+00,\n",
      "           6.9447e+01,  4.5003e+01, -1.2866e+01,  5.8508e+00,  3.5856e+01,\n",
      "           3.9250e+01, -2.6906e+01, -5.9834e+01,  1.8614e+01,  6.5809e+01,\n",
      "          -8.6072e+00]]], grad_fn=<AddBackward0>)\n",
      "torch.Size([1, 2, 16])\n",
      "tensor([[ 1.8122e+00,  8.0565e-01, -1.0789e+00, -2.9956e+00, -4.8203e-02,\n",
      "          2.5044e+00,  2.5577e+00,  2.0470e+00, -8.0749e-03,  1.1986e+00,\n",
      "          2.2260e-01, -3.1251e+00, -1.5328e-01,  1.9644e+00,  2.2427e+00,\n",
      "         -2.1394e+00,  4.8488e+01,  2.6191e+01, -7.1233e+00, -5.4119e+01,\n",
      "          4.9041e+00,  6.9447e+01,  4.5003e+01, -1.2866e+01,  5.8508e+00,\n",
      "          3.5856e+01,  3.9250e+01, -2.6906e+01, -5.9834e+01,  1.8614e+01,\n",
      "          6.5809e+01, -8.6072e+00]], grad_fn=<ViewBackward0>)\n",
      "tensor([[  8.6025, -26.1372,  18.3730,  -5.0885,   4.5992,  38.2870, -25.1080,\n",
      "         -24.4243,  27.0337,   6.9941, -17.3230, -21.8704, -10.3035, -36.8713,\n",
      "          -4.1236, -10.1958, -17.8365,  -2.6223, -29.5158,  -8.5828,  25.6249,\n",
      "         -27.5681, -17.6520,  22.9048]], grad_fn=<AddmmBackward0>)\n",
      "torch.Size([1, 24])\n"
     ]
    }
   ],
   "source": [
    "# idea 1, 2 stages patching\n",
    "\n",
    "test_input = torch.tensor([[[5,2,3], [123,4,7]]]).float()   #shape (1,2,3)\n",
    "\n",
    "print(test_input.shape)\n",
    "\n",
    "# each patch into embedding\n",
    "\n",
    "d_model = 24\n",
    "d_patch = 16\n",
    "\n",
    "w_patch_indv = torch.nn.Linear(test_input.shape[-1], d_patch)\n",
    "\n",
    "x = w_patch_indv(test_input)\n",
    "\n",
    "print(x)\n",
    "print(x.shape)\n",
    "\n",
    "#flatten channels\n",
    "\n",
    "x = x.view(test_input.shape[0],-1)\n",
    "\n",
    "print(x)\n",
    "\n",
    "\n",
    "\n",
    "# merge each channels into the patches\n",
    "\n",
    "w_channel_m = torch.nn.Linear(x.shape[-1], d_model)\n",
    "\n",
    "x = w_channel_m(x)\n",
    "\n",
    "print(x)\n",
    "print(x.shape)\n"
   ]
  },
  {
   "cell_type": "code",
   "execution_count": 3,
   "metadata": {},
   "outputs": [
    {
     "data": {
      "text/plain": [
       "True"
      ]
     },
     "execution_count": 3,
     "metadata": {},
     "output_type": "execute_result"
    }
   ],
   "source": [
    "torch.cuda.is_available()"
   ]
  },
  {
   "cell_type": "code",
   "execution_count": 4,
   "metadata": {},
   "outputs": [
    {
     "data": {
      "text/plain": [
       "tensor([[[  5.,   2.,   3.],\n",
       "         [123.,   4.,   7.]]])"
      ]
     },
     "execution_count": 4,
     "metadata": {},
     "output_type": "execute_result"
    }
   ],
   "source": [
    "test_input[:,:,:]"
   ]
  },
  {
   "cell_type": "code",
   "execution_count": null,
   "metadata": {},
   "outputs": [],
   "source": []
  }
 ],
 "metadata": {
  "kernelspec": {
   "display_name": "Pytorch_1_11",
   "language": "python",
   "name": "python3"
  },
  "language_info": {
   "codemirror_mode": {
    "name": "ipython",
    "version": 3
   },
   "file_extension": ".py",
   "mimetype": "text/x-python",
   "name": "python",
   "nbconvert_exporter": "python",
   "pygments_lexer": "ipython3",
   "version": "3.8.5"
  }
 },
 "nbformat": 4,
 "nbformat_minor": 2
}
