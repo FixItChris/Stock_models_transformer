{
 "cells": [
  {
   "cell_type": "code",
   "execution_count": 2,
   "metadata": {},
   "outputs": [],
   "source": [
    "import torch\n",
    "import numpy as np\n",
    "#import pandas as pd"
   ]
  },
  {
   "cell_type": "code",
   "execution_count": 8,
   "metadata": {},
   "outputs": [
    {
     "name": "stdout",
     "output_type": "stream",
     "text": [
      "torch.Size([1, 2, 3])\n",
      "tensor([[[  1.9975,   0.9039,  -3.9002,   2.1717,  -3.3017,  -1.7104,   2.1665,\n",
      "           -0.5115,  -3.6455,   0.6912,  -1.2258,   2.8113,  -2.8252,   1.9020,\n",
      "           -1.0045,  -1.5456],\n",
      "         [ 61.4037,  41.8897, -70.4480,  41.9692, -61.7969, -54.4200,  62.8324,\n",
      "          -44.2808, -24.2937,   6.8598,   3.6059,  33.6072, -53.0543,  40.1890,\n",
      "          -13.3089, -33.8818]]], grad_fn=<AddBackward0>)\n",
      "torch.Size([1, 2, 16])\n",
      "tensor([[  1.9975,   0.9039,  -3.9002,   2.1717,  -3.3017,  -1.7104,   2.1665,\n",
      "          -0.5115,  -3.6455,   0.6912,  -1.2258,   2.8113,  -2.8252,   1.9020,\n",
      "          -1.0045,  -1.5456,  61.4037,  41.8897, -70.4480,  41.9692, -61.7969,\n",
      "         -54.4200,  62.8324, -44.2808, -24.2937,   6.8598,   3.6059,  33.6072,\n",
      "         -53.0543,  40.1890, -13.3089, -33.8818]], grad_fn=<ViewBackward0>)\n",
      "tensor([[ -8.3447,  13.3558,  14.8459, -11.7567, -14.8710,  35.1665,  13.6365,\n",
      "         -44.2741,   2.3172,   4.6831, -14.0775,  27.2935, -11.6611, -11.0553,\n",
      "          37.1618,   2.7828, -12.3885,  -5.1509,  -9.1375,  18.5218, -21.5905,\n",
      "           5.8271,   9.5936, -18.2203]], grad_fn=<AddmmBackward0>)\n",
      "torch.Size([1, 24])\n"
     ]
    }
   ],
   "source": [
    "# idea 1, 2 stages patching\n",
    "\n",
    "test_input = torch.tensor([[[5,2,3], [123,4,7]]]).float()   #shape (2,3)\n",
    "\n",
    "print(test_input.shape)\n",
    "\n",
    "# each patch into embedding\n",
    "\n",
    "d_model = 24\n",
    "d_patch = 16\n",
    "\n",
    "w_patch_indv = torch.nn.Linear(test_input.shape[-1], d_patch)\n",
    "\n",
    "x = w_patch_indv(test_input)\n",
    "\n",
    "print(x)\n",
    "print(x.shape)\n",
    "\n",
    "#flatten channels\n",
    "\n",
    "x = x.view(test_input.shape[0],-1)\n",
    "\n",
    "print(x)\n",
    "\n",
    "\n",
    "\n",
    "# merge each channels into the patches\n",
    "\n",
    "w_channel_m = torch.nn.Linear(x.shape[-1], d_model)\n",
    "\n",
    "x = w_channel_m(x)\n",
    "\n",
    "print(x)\n",
    "print(x.shape)\n"
   ]
  },
  {
   "cell_type": "code",
   "execution_count": 9,
   "metadata": {},
   "outputs": [
    {
     "data": {
      "text/plain": [
       "True"
      ]
     },
     "execution_count": 9,
     "metadata": {},
     "output_type": "execute_result"
    }
   ],
   "source": [
    "torch.cuda.is_available()"
   ]
  },
  {
   "cell_type": "code",
   "execution_count": null,
   "metadata": {},
   "outputs": [],
   "source": []
  }
 ],
 "metadata": {
  "kernelspec": {
   "display_name": "Pytorch_1_11",
   "language": "python",
   "name": "python3"
  },
  "language_info": {
   "codemirror_mode": {
    "name": "ipython",
    "version": 3
   },
   "file_extension": ".py",
   "mimetype": "text/x-python",
   "name": "python",
   "nbconvert_exporter": "python",
   "pygments_lexer": "ipython3",
   "version": "3.8.5"
  }
 },
 "nbformat": 4,
 "nbformat_minor": 2
}
