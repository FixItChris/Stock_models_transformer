{
 "cells": [
  {
   "cell_type": "code",
   "execution_count": 1,
   "metadata": {},
   "outputs": [
    {
     "name": "stderr",
     "output_type": "stream",
     "text": [
      "c:\\Users\\Vincent\\.conda\\envs\\Pytorch_1_11\\lib\\site-packages\\tqdm\\auto.py:22: TqdmWarning: IProgress not found. Please update jupyter and ipywidgets. See https://ipywidgets.readthedocs.io/en/stable/user_install.html\n",
      "  from .autonotebook import tqdm as notebook_tqdm\n"
     ]
    }
   ],
   "source": [
    "import torch\n",
    "import numpy as np\n",
    "#import pandas as pd\n",
    "\n",
    "from EcmP_supervised.layers.EcmP_layers import series_decomp"
   ]
  },
  {
   "cell_type": "code",
   "execution_count": 6,
   "metadata": {},
   "outputs": [
    {
     "name": "stdout",
     "output_type": "stream",
     "text": [
      "torch.Size([1, 2, 3])\n",
      "tensor([[[  0.8136,   1.1169,   0.3454,  -2.2691,   1.4340,   2.2030,  -4.3210,\n",
      "           -1.4900,   0.3377,   3.3877,  -4.1011,  -2.7281,   1.9255,   1.6201,\n",
      "           -3.6247,  -1.9479],\n",
      "         [ 63.7521,  38.7186, -28.1333, -62.2381,  22.3293,   0.2731, -60.4720,\n",
      "           -2.5868,   4.4808,  63.2928, -67.1241, -25.4295,  16.7008,  66.2117,\n",
      "          -59.7428, -60.1647]]], grad_fn=<AddBackward0>)\n",
      "torch.Size([1, 2, 16])\n",
      "torch.Size([1, 32])\n",
      "tensor([[ 20.2115,   3.0888,   1.0161,  51.9251,  -9.8811,  14.5502,  -3.2287,\n",
      "         -13.1822,  36.2783,  21.5806,   4.8223,  24.2714, -21.6600,  -0.6491,\n",
      "         -12.3721,   8.5407,  34.7497,  24.1908,   8.9852, -26.6065,   6.9476,\n",
      "          21.4202, -12.6643, -19.5497]], grad_fn=<AddmmBackward0>)\n",
      "24\n"
     ]
    }
   ],
   "source": [
    "# idea 1, 2 stages patching\n",
    "\n",
    "test_input = torch.tensor([[[5,2,3], [123,4,7]]]).float()   #shape (1,2,3)\n",
    "\n",
    "print(test_input.shape)\n",
    "\n",
    "# each patch into embedding\n",
    "\n",
    "d_model = 24\n",
    "d_patch = 16\n",
    "\n",
    "w_patch_indv = torch.nn.Linear(test_input.shape[-1], d_patch)\n",
    "\n",
    "x = w_patch_indv(test_input)\n",
    "\n",
    "print(x)\n",
    "print(x.shape)\n",
    "\n",
    "#flatten channels\n",
    "\n",
    "x = x.view(test_input.shape[0],-1)\n",
    "\n",
    "print(x.shape)\n",
    "\n",
    "\n",
    "\n",
    "# merge each channels into the patches\n",
    "\n",
    "w_channel_m = torch.nn.Linear(x.shape[-1], d_model)\n",
    "\n",
    "x = w_channel_m(x)\n",
    "\n",
    "print(x)\n",
    "print(x.shape[1])\n"
   ]
  },
  {
   "cell_type": "code",
   "execution_count": 3,
   "metadata": {},
   "outputs": [
    {
     "data": {
      "text/plain": [
       "True"
      ]
     },
     "execution_count": 3,
     "metadata": {},
     "output_type": "execute_result"
    }
   ],
   "source": [
    "torch.cuda.is_available()"
   ]
  },
  {
   "cell_type": "code",
   "execution_count": 5,
   "metadata": {},
   "outputs": [
    {
     "data": {
      "text/plain": [
       "tensor([[[  5.,   2.,   3.],\n",
       "         [123.,   4.,   7.]]])"
      ]
     },
     "execution_count": 5,
     "metadata": {},
     "output_type": "execute_result"
    }
   ],
   "source": [
    "test_input[:,:,:]"
   ]
  },
  {
   "cell_type": "code",
   "execution_count": 13,
   "metadata": {},
   "outputs": [
    {
     "name": "stdout",
     "output_type": "stream",
     "text": [
      "tensor([[[5, 2]],\n",
      "\n",
      "        [[1, 8]]])\n",
      "tensor([[[  1,   1]],\n",
      "\n",
      "        [[  1, -10]]])\n",
      "torch.Size([2, 1, 2]) torch.Size([2, 1, 2])\n"
     ]
    }
   ],
   "source": [
    "t1 = torch.tensor([[[5,2]], [[1,8]]])\n",
    "\n",
    "t2 = torch.tensor([[[1,1]], [[1,-10]]])\n",
    "\n",
    "print(t1)\n",
    "\n",
    "print(t2)\n",
    "\n",
    "print(t1.shape, t2.shape)"
   ]
  },
  {
   "cell_type": "code",
   "execution_count": 14,
   "metadata": {},
   "outputs": [
    {
     "name": "stdout",
     "output_type": "stream",
     "text": [
      "tensor([[[ 6,  3]],\n",
      "\n",
      "        [[ 2, -2]]])\n",
      "torch.Size([2, 1, 2])\n"
     ]
    }
   ],
   "source": [
    "t3 = t1 + t2\n",
    "\n",
    "print(t3)\n",
    "print(t3.shape)"
   ]
  },
  {
   "cell_type": "code",
   "execution_count": 8,
   "metadata": {},
   "outputs": [
    {
     "ename": "NameError",
     "evalue": "name 's_d' is not defined",
     "output_type": "error",
     "traceback": [
      "\u001b[1;31m---------------------------------------------------------------------------\u001b[0m",
      "\u001b[1;31mNameError\u001b[0m                                 Traceback (most recent call last)",
      "Cell \u001b[1;32mIn[8], line 1\u001b[0m\n\u001b[1;32m----> 1\u001b[0m y1, y2 \u001b[38;5;241m=\u001b[39m \u001b[43ms_d\u001b[49m(x1)\n",
      "\u001b[1;31mNameError\u001b[0m: name 's_d' is not defined"
     ]
    }
   ],
   "source": [
    "y1, y2 = s_d(x1)"
   ]
  },
  {
   "cell_type": "code",
   "execution_count": null,
   "metadata": {},
   "outputs": [
    {
     "name": "stdout",
     "output_type": "stream",
     "text": [
      "tensor([[[ 0.0683],\n",
      "         [-0.0774],\n",
      "         [-0.0274],\n",
      "         [-0.0281],\n",
      "         [ 0.0645]],\n",
      "\n",
      "        [[-0.0493],\n",
      "         [ 0.1223],\n",
      "         [-0.1136],\n",
      "         [ 0.1379],\n",
      "         [-0.0974]]])\n",
      "tensor([[[0.1734],\n",
      "         [0.1141],\n",
      "         [0.0912],\n",
      "         [0.2012],\n",
      "         [0.3022]],\n",
      "\n",
      "        [[0.3424],\n",
      "         [0.3186],\n",
      "         [0.3353],\n",
      "         [0.2055],\n",
      "         [0.1486]]])\n"
     ]
    }
   ],
   "source": [
    "print(y1)\n",
    "print(y2)"
   ]
  },
  {
   "cell_type": "code",
   "execution_count": null,
   "metadata": {},
   "outputs": [],
   "source": []
  }
 ],
 "metadata": {
  "kernelspec": {
   "display_name": "Pytorch_1_11",
   "language": "python",
   "name": "python3"
  },
  "language_info": {
   "codemirror_mode": {
    "name": "ipython",
    "version": 3
   },
   "file_extension": ".py",
   "mimetype": "text/x-python",
   "name": "python",
   "nbconvert_exporter": "python",
   "pygments_lexer": "ipython3",
   "version": "3.8.5"
  }
 },
 "nbformat": 4,
 "nbformat_minor": 2
}
