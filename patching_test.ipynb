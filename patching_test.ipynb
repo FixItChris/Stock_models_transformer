{
 "cells": [
  {
   "cell_type": "code",
   "execution_count": 1,
   "metadata": {},
   "outputs": [
    {
     "name": "stderr",
     "output_type": "stream",
     "text": [
      "c:\\Users\\Vincent\\.conda\\envs\\Pytorch_1_11\\lib\\site-packages\\tqdm\\auto.py:22: TqdmWarning: IProgress not found. Please update jupyter and ipywidgets. See https://ipywidgets.readthedocs.io/en/stable/user_install.html\n",
      "  from .autonotebook import tqdm as notebook_tqdm\n"
     ]
    }
   ],
   "source": [
    "import torch\n",
    "import numpy as np\n",
    "import pandas as pd"
   ]
  },
  {
   "cell_type": "code",
   "execution_count": 8,
   "metadata": {},
   "outputs": [
    {
     "name": "stdout",
     "output_type": "stream",
     "text": [
      "torch.Size([2, 3])\n",
      "tensor([[ -2.6748,   0.5606,   1.2652,  -0.9978,  -1.4814,   1.5100,   2.0574,\n",
      "          -2.5919,  -0.2793,   1.4982,  -0.9771,   1.2393,  -0.9900,   1.5096,\n",
      "           0.7221,  -0.6882],\n",
      "        [-43.7282, -14.6149,  18.0454,   8.0633, -33.6273,  -5.8366,  22.4371,\n",
      "         -24.5000, -17.1731, -18.7164,   0.8406,  38.3874, -54.6885,  54.2884,\n",
      "          60.5586,   8.0550]], grad_fn=<AddmmBackward0>)\n",
      "torch.Size([2, 16])\n",
      "tensor([ -2.6748,   0.5606,   1.2652,  -0.9978,  -1.4814,   1.5100,   2.0574,\n",
      "         -2.5919,  -0.2793,   1.4982,  -0.9771,   1.2393,  -0.9900,   1.5096,\n",
      "          0.7221,  -0.6882, -43.7282, -14.6149,  18.0454,   8.0633, -33.6273,\n",
      "         -5.8366,  22.4371, -24.5000, -17.1731, -18.7164,   0.8406,  38.3874,\n",
      "        -54.6885,  54.2884,  60.5586,   8.0550], grad_fn=<ViewBackward0>)\n",
      "tensor([-14.5223, -18.8572,  -0.3522,   8.3283, -12.0920,   1.3381,   4.4405,\n",
      "          0.0649, -14.5960,   1.0177,   8.3950,  16.8855,  -0.3171,   0.1681,\n",
      "         13.6840, -10.8422,   6.0490, -13.0410,  -8.6271,  13.9925,  22.7345,\n",
      "          7.7953,   4.9706,   0.3967,  17.2204, -24.3252, -14.7250,   5.9157,\n",
      "          4.6297,  28.7536,   6.2771,   2.3540], grad_fn=<AddBackward0>)\n",
      "torch.Size([32])\n"
     ]
    }
   ],
   "source": [
    "# idea 1, 2 stages patching\n",
    "\n",
    "test_input = torch.tensor([[5,2,3], [123,4,7]]).float()   #shape (2,3)\n",
    "\n",
    "print(test_input.shape)\n",
    "\n",
    "# each patch into embedding\n",
    "\n",
    "d_model = 32\n",
    "d_patch = 16\n",
    "\n",
    "w_patch_indv = torch.nn.Linear(test_input.shape[1], d_patch)\n",
    "\n",
    "x = w_patch_indv(test_input)\n",
    "\n",
    "print(x)\n",
    "print(x.shape)\n",
    "\n",
    "#flatten channels\n",
    "\n",
    "x = x.view(-1)\n",
    "\n",
    "print(x)\n",
    "\n",
    "\n",
    "\n",
    "# merge each channels into the patches\n",
    "\n",
    "w_channel_m = torch.nn.Linear(x.shape[0], d_model)\n",
    "\n",
    "x = w_channel_m(x)\n",
    "\n",
    "print(x)\n",
    "print(x.shape)\n"
   ]
  },
  {
   "cell_type": "code",
   "execution_count": null,
   "metadata": {},
   "outputs": [],
   "source": []
  }
 ],
 "metadata": {
  "kernelspec": {
   "display_name": "Pytorch_1_11",
   "language": "python",
   "name": "python3"
  },
  "language_info": {
   "codemirror_mode": {
    "name": "ipython",
    "version": 3
   },
   "file_extension": ".py",
   "mimetype": "text/x-python",
   "name": "python",
   "nbconvert_exporter": "python",
   "pygments_lexer": "ipython3",
   "version": "3.8.5"
  }
 },
 "nbformat": 4,
 "nbformat_minor": 2
}
