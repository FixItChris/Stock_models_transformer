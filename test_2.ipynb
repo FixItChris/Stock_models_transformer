{
 "cells": [
  {
   "cell_type": "code",
   "execution_count": 2,
   "metadata": {},
   "outputs": [],
   "source": [
    "import numpy as np\n",
    "import pandas as pd\n"
   ]
  },
  {
   "cell_type": "code",
   "execution_count": 4,
   "metadata": {},
   "outputs": [],
   "source": [
    "metrics = np.load(r'results\\sse_index_50_1_PatchTST_stock_custom_ftMS_sl50_ll25_pl1_dm128_nh8_el3_dl1_df256_fc1_ebtimeF_dtTrue_Exp_0\\metrics.npy', allow_pickle=True)\n",
    "print(metrics)"
   ]
  },
  {
   "cell_type": "code",
   "execution_count": 7,
   "metadata": {},
   "outputs": [
    {
     "name": "stdout",
     "output_type": "stream",
     "text": [
      "[[[0.31694216]]\n",
      "\n",
      " [[0.32804707]]\n",
      "\n",
      " [[0.33677018]]\n",
      "\n",
      " [[0.38762388]]\n",
      "\n",
      " [[0.39019343]]\n",
      "\n",
      " [[0.3861257 ]]\n",
      "\n",
      " [[0.3954184 ]]\n",
      "\n",
      " [[0.4026829 ]]\n",
      "\n",
      " [[0.3682943 ]]\n",
      "\n",
      " [[0.40365487]]]\n"
     ]
    }
   ],
   "source": [
    "pred = np.load(r'results\\sse_index_50_1_PatchTST_stock_custom_ftMS_sl50_ll25_pl1_dm128_nh8_el3_dl1_df256_fc1_ebtimeF_dtTrue_Exp_0\\pred.npy')\n",
    "print(pred[:10])\n"
   ]
  },
  {
   "cell_type": "code",
   "execution_count": 8,
   "metadata": {},
   "outputs": [
    {
     "name": "stdout",
     "output_type": "stream",
     "text": [
      "[[[0.31594557]]\n",
      "\n",
      " [[0.32434642]]\n",
      "\n",
      " [[0.38644126]]\n",
      "\n",
      " [[0.38319397]]\n",
      "\n",
      " [[0.3835397 ]]\n",
      "\n",
      " [[0.38679725]]\n",
      "\n",
      " [[0.40145153]]\n",
      "\n",
      " [[0.36598387]]\n",
      "\n",
      " [[0.40643758]]\n",
      "\n",
      " [[0.39760736]]]\n"
     ]
    }
   ],
   "source": [
    "true = np.load(r'results\\sse_index_50_1_PatchTST_stock_custom_ftMS_sl50_ll25_pl1_dm128_nh8_el3_dl1_df256_fc1_ebtimeF_dtTrue_Exp_0\\true.npy')\n",
    "print(true[:10]) "
   ]
  },
  {
   "cell_type": "code",
   "execution_count": 10,
   "metadata": {},
   "outputs": [
    {
     "name": "stdout",
     "output_type": "stream",
     "text": [
      "[0.026342746 0.0012921189 0.035946056 0.039633952 0.004564483 0.14647931\n",
      " array([0.2154351], dtype=float32)]\n"
     ]
    }
   ],
   "source": [
    "t1 = np.load(r'results\\sse_index_30_1_PatchTST_stock_custom_ftMS_sl30_ll25_pl1_dm128_nh8_el3_dl1_df256_fc1_ebtimeF_dtTrue_Exp_0\\metrics.npy', allow_pickle=True)\n",
    "print(t1)"
   ]
  },
  {
   "cell_type": "code",
   "execution_count": 11,
   "metadata": {},
   "outputs": [
    {
     "name": "stdout",
     "output_type": "stream",
     "text": [
      "[[[0.2993713 ]]\n",
      "\n",
      " [[0.3138537 ]]\n",
      "\n",
      " [[0.32504684]]\n",
      "\n",
      " [[0.37952963]]\n",
      "\n",
      " [[0.37459755]]\n",
      "\n",
      " [[0.37678483]]\n",
      "\n",
      " [[0.3779791 ]]\n",
      "\n",
      " [[0.37446457]]\n",
      "\n",
      " [[0.3552575 ]]\n",
      "\n",
      " [[0.3866451 ]]]\n",
      "[[[0.31594557]]\n",
      "\n",
      " [[0.32434642]]\n",
      "\n",
      " [[0.38644126]]\n",
      "\n",
      " [[0.38319397]]\n",
      "\n",
      " [[0.3835397 ]]\n",
      "\n",
      " [[0.38679725]]\n",
      "\n",
      " [[0.40145153]]\n",
      "\n",
      " [[0.36598387]]\n",
      "\n",
      " [[0.40643758]]\n",
      "\n",
      " [[0.39760736]]]\n"
     ]
    }
   ],
   "source": [
    "t1_p = np.load(r'results\\sse_index_30_1_PatchTST_stock_custom_ftMS_sl30_ll25_pl1_dm128_nh8_el3_dl1_df256_fc1_ebtimeF_dtTrue_Exp_0\\pred.npy')\n",
    "t1_t = np.load(r'results\\sse_index_30_1_PatchTST_stock_custom_ftMS_sl30_ll25_pl1_dm128_nh8_el3_dl1_df256_fc1_ebtimeF_dtTrue_Exp_0\\true.npy')\n",
    "print(t1_p[:10])\n",
    "print(t1_t[:10])"
   ]
  },
  {
   "cell_type": "code",
   "execution_count": null,
   "metadata": {},
   "outputs": [],
   "source": []
  }
 ],
 "metadata": {
  "kernelspec": {
   "display_name": "Pytorch_1_11",
   "language": "python",
   "name": "python3"
  },
  "language_info": {
   "codemirror_mode": {
    "name": "ipython",
    "version": 3
   },
   "file_extension": ".py",
   "mimetype": "text/x-python",
   "name": "python",
   "nbconvert_exporter": "python",
   "pygments_lexer": "ipython3",
   "version": "3.8.5"
  },
  "orig_nbformat": 4
 },
 "nbformat": 4,
 "nbformat_minor": 2
}
