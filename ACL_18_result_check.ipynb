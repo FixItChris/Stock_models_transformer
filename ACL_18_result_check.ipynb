{
 "cells": [
  {
   "cell_type": "code",
   "execution_count": 1,
   "metadata": {},
   "outputs": [],
   "source": [
    "import numpy as np\n",
    "import pandas as pd"
   ]
  },
  {
   "cell_type": "code",
   "execution_count": 2,
   "metadata": {},
   "outputs": [],
   "source": [
    "file_path = r'result_log\\EcmP_mk3\\ecmp_stock\\test_lseq.txt'"
   ]
  },
  {
   "cell_type": "code",
   "execution_count": 3,
   "metadata": {},
   "outputs": [
    {
     "data": {
      "text/plain": [
       "{'10': [array([ 5.71865852, 13.87188411]), 71],\n",
       " '20': [array([10.84733489, 19.42666414]), 71],\n",
       " '40': [array([20.08924252, 26.9093698 ]), 71],\n",
       " '60': [array([25.79788597, 30.762427  ]), 71]}"
      ]
     },
     "execution_count": 3,
     "metadata": {},
     "output_type": "execute_result"
    }
   ],
   "source": [
    "f = open(file_path, 'r')\n",
    "\n",
    "lines = f.readlines()\n",
    "\n",
    "result_dict = {}\n",
    "\n",
    "check_limit = 1000\n",
    "\n",
    "i = 0\n",
    "ct = 0\n",
    "\n",
    "\n",
    "while i < len(lines) and ct < check_limit:\n",
    "\n",
    "    if len(lines[i].split('_')) > 5 :\n",
    "        \n",
    "        line_1 = lines[i].split('_')\n",
    "        line_2 = lines[i+1].split(', ')\n",
    "\n",
    "        pred_len = line_1[2]\n",
    "        mse = np.float64(line_2[0].split(':')[1])\n",
    "        mae = np.float64(line_2[1].split(':')[1])\n",
    "\n",
    "        if pred_len not in result_dict:\n",
    "            result_dict[pred_len] = [np.zeros(2, dtype=np.float64), 0]  # mse, mae, ct\n",
    "\n",
    "        \n",
    "        result_dict[pred_len][0][0] += mse\n",
    "        result_dict[pred_len][0][1] += mae\n",
    "        result_dict[pred_len][1] += 1\n",
    "\n",
    "        # print(mse/result_dict[pred_len][1], mae/result_dict[pred_len][1], type(mse), type(mae), type(result_dict[pred_len][1]))\n",
    "        # print(result_dict[pred_len])\n",
    "\n",
    "\n",
    "        ct += 1\n",
    "        i += 3\n",
    "\n",
    "    else:\n",
    "        i += 1\n",
    "    \n",
    "f.close()\n",
    "\n",
    "result_dict"
   ]
  },
  {
   "cell_type": "code",
   "execution_count": 4,
   "metadata": {},
   "outputs": [
    {
     "data": {
      "text/plain": [
       "{'10': [0.08054448612867264, 0.19537864948137545],\n",
       " '20': [0.1527793646895025, 0.2736149878621521],\n",
       " '40': [0.28294707777988637, 0.3790052084540817],\n",
       " '60': [0.36335050662927015, 0.43327361974917666]}"
      ]
     },
     "execution_count": 4,
     "metadata": {},
     "output_type": "execute_result"
    }
   ],
   "source": [
    "final_result = {}\n",
    "for key in result_dict:\n",
    "    final_result[key] = [result_dict[key][0][0]/result_dict[key][1] , result_dict[key][0][1]/result_dict[key][1] ]\n",
    "\n",
    "final_result\n"
   ]
  },
  {
   "cell_type": "code",
   "execution_count": 5,
   "metadata": {},
   "outputs": [
    {
     "data": {
      "text/plain": [
       "{'10': [0.0749773853860179, 0.18674399008528447],\n",
       " '20': [0.14426159017889853, 0.2641829145993565],\n",
       " '40': [0.26221268738842973, 0.3632862289291872],\n",
       " '60': [0.34698844791232597, 0.41897929538513573]}"
      ]
     },
     "execution_count": 5,
     "metadata": {},
     "output_type": "execute_result"
    }
   ],
   "source": [
    "{'10': [0.0749773853860179, 0.18674399008528447],\n",
    " '20': [0.14426159017889853, 0.2641829145993565],\n",
    " '40': [0.26221268738842973, 0.3632862289291872],\n",
    " '60': [0.34698844791232597, 0.41897929538513573]} #PATCH TST"
   ]
  },
  {
   "cell_type": "code",
   "execution_count": 6,
   "metadata": {},
   "outputs": [
    {
     "data": {
      "text/plain": [
       "{'10': [0.08054448612867264, 0.19537864948137545],\n",
       " '20': [0.1527793646895025, 0.2736149878621521],\n",
       " '40': [0.28294707777988637, 0.3790052084540817],\n",
       " '60': [0.36335050662927015, 0.43327361974917666]}"
      ]
     },
     "execution_count": 6,
     "metadata": {},
     "output_type": "execute_result"
    }
   ],
   "source": [
    "{'10': [0.08054448612867264, 0.19537864948137545],\n",
    " '20': [0.1527793646895025, 0.2736149878621521],\n",
    " '40': [0.28294707777988637, 0.3790052084540817],\n",
    " '60': [0.36335050662927015, 0.43327361974917666]} #ECMP MK3 V1"
   ]
  },
  {
   "cell_type": "code",
   "execution_count": 7,
   "metadata": {},
   "outputs": [
    {
     "data": {
      "text/plain": [
       "{'10': [1.0039926320314407, 0.7224592456692144],\n",
       " '20': [0.9968817602646979, 0.7192985180177187],\n",
       " '40': [0.9209014104830252, 0.692609541319512],\n",
       " '60': [0.88302735944052, 0.68100609650483]}"
      ]
     },
     "execution_count": 7,
     "metadata": {},
     "output_type": "execute_result"
    }
   ],
   "source": [
    "{'10': [0.08054448612867264, 0.19537864948137545],\n",
    " '20': [0.1527793646895025, 0.2736149878621521],\n",
    " '40': [0.28294707777988637, 0.3790052084540817],\n",
    " '60': [0.36335050662927015, 0.43327361974917666]}"
   ]
  },
  {
   "cell_type": "code",
   "execution_count": 8,
   "metadata": {},
   "outputs": [
    {
     "data": {
      "text/plain": [
       "{'10': [1.0377423970138326, 0.7317429121802835],\n",
       " '20': [1.0260855275041916, 0.7269675191710977],\n",
       " '40': [0.9831059413797715, 0.7116511586834403],\n",
       " '60': [0.9475351417765898, 0.7024764772723703]}"
      ]
     },
     "execution_count": 8,
     "metadata": {},
     "output_type": "execute_result"
    }
   ],
   "source": [
    "#v4\n",
    "{'10': [1.0377423970138326, 0.7317429121802835],\n",
    " '20': [1.0260855275041916, 0.7269675191710977],\n",
    " '40': [0.9831059413797715, 0.7116511586834403],\n",
    " '60': [0.9475351417765898, 0.7024764772723703]}"
   ]
  },
  {
   "cell_type": "code",
   "execution_count": null,
   "metadata": {},
   "outputs": [],
   "source": []
  }
 ],
 "metadata": {
  "kernelspec": {
   "display_name": "Pytorch_1_11",
   "language": "python",
   "name": "python3"
  },
  "language_info": {
   "codemirror_mode": {
    "name": "ipython",
    "version": 3
   },
   "file_extension": ".py",
   "mimetype": "text/x-python",
   "name": "python",
   "nbconvert_exporter": "python",
   "pygments_lexer": "ipython3",
   "version": "3.8.5"
  }
 },
 "nbformat": 4,
 "nbformat_minor": 2
}
