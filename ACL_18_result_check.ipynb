{
 "cells": [
  {
   "cell_type": "code",
   "execution_count": 22,
   "metadata": {},
   "outputs": [],
   "source": [
    "import numpy as np\n",
    "import pandas as pd"
   ]
  },
  {
   "cell_type": "code",
   "execution_count": 23,
   "metadata": {},
   "outputs": [],
   "source": [
    "file_path = r'result_log\\EcmP_mk3\\ecmp_stock\\final_10_40_best_zeros.txt'   "
   ]
  },
  {
   "cell_type": "code",
   "execution_count": 24,
   "metadata": {},
   "outputs": [],
   "source": [
    "pct = False\n",
    "if pct:\n",
    "    pl_i = 3\n",
    "else:\n",
    "    pl_i = 2"
   ]
  },
  {
   "cell_type": "code",
   "execution_count": 25,
   "metadata": {},
   "outputs": [
    {
     "data": {
      "text/plain": [
       "{'10': [array([ 4.96008368, 12.76465841]), 71],\n",
       " '20': [array([ 9.52760455, 18.133323  ]), 71],\n",
       " '40': [array([18.12764148, 25.53432284]), 71]}"
      ]
     },
     "execution_count": 25,
     "metadata": {},
     "output_type": "execute_result"
    }
   ],
   "source": [
    "f = open(file_path, 'r')\n",
    "\n",
    "lines = f.readlines()\n",
    "\n",
    "result_dict = {}\n",
    "\n",
    "check_limit = 1000\n",
    "\n",
    "i = 0\n",
    "ct = 0\n",
    "\n",
    "\n",
    "while i < len(lines) and ct < check_limit:\n",
    "\n",
    "    if len(lines[i].split('_')) > 5 :\n",
    "        \n",
    "        line_1 = lines[i].split('_')\n",
    "        line_2 = lines[i+1].split(', ')\n",
    "\n",
    "        pred_len = line_1[pl_i]\n",
    "        mse = np.float64(line_2[0].split(':')[1])\n",
    "        mae = np.float64(line_2[1].split(':')[1])\n",
    "\n",
    "        if pred_len not in result_dict:\n",
    "            result_dict[pred_len] = [np.zeros(2, dtype=np.float64), 0]  # mse, mae, ct\n",
    "\n",
    "        \n",
    "        result_dict[pred_len][0][0] += mse\n",
    "        result_dict[pred_len][0][1] += mae\n",
    "        result_dict[pred_len][1] += 1\n",
    "\n",
    "        # print(mse/result_dict[pred_len][1], mae/result_dict[pred_len][1], type(mse), type(mae), type(result_dict[pred_len][1]))\n",
    "        # print(result_dict[pred_len])\n",
    "\n",
    "\n",
    "        ct += 1\n",
    "        i += 3\n",
    "\n",
    "    else:\n",
    "        i += 1\n",
    "    \n",
    "f.close()\n",
    "\n",
    "result_dict"
   ]
  },
  {
   "cell_type": "code",
   "execution_count": 26,
   "metadata": {},
   "outputs": [
    {
     "data": {
      "text/plain": [
       "{'10': [0.06986033357515879, 0.1797839212165752],\n",
       " '20': [0.13419161343776528, 0.25539891547720195],\n",
       " '40': [0.2553188940608533, 0.35963834990078297]}"
      ]
     },
     "execution_count": 26,
     "metadata": {},
     "output_type": "execute_result"
    }
   ],
   "source": [
    "final_result = {}\n",
    "for key in result_dict:\n",
    "    final_result[key] = [result_dict[key][0][0]/result_dict[key][1] , result_dict[key][0][1]/result_dict[key][1] ]\n",
    "\n",
    "final_result\n"
   ]
  },
  {
   "cell_type": "markdown",
   "metadata": {},
   "source": [
    "## RAW Log"
   ]
  },
  {
   "cell_type": "code",
   "execution_count": 27,
   "metadata": {},
   "outputs": [
    {
     "data": {
      "text/plain": [
       "{10: 5.636052806612471, 20: 5.596382728030144}"
      ]
     },
     "execution_count": 27,
     "metadata": {},
     "output_type": "execute_result"
    }
   ],
   "source": [
    "'result_log\\EcmP_mk3\\ecmp_stock\\final_10_40_v1_dff_t2.txt'\n",
    "'result_log\\EcmP_mk3\\ecmp_stock\\final_seq_60_v1.txt'\n",
    "{'10': [0.06986033357515879, 0.1797839212165752],\n",
    " '20': [0.13419161343776528, 0.25539891547720195],\n",
    " '40': [0.2553188940608533, 0.35963834990078297]}\n",
    "{'60': [0.33873793937292107, 0.4185521456242447]}    #EcmP mk3 Linear None\n",
    "\n",
    "\n",
    "\n",
    "'result_log\\PatchTST\\ecmp_stock\\test_1.txt'\n",
    "{'10': [0.0749773853860179, 0.18674399008528447],\n",
    " '20': [0.14426159017889853, 0.2641829145993565],\n",
    " '40': [0.26221268738842973, 0.3632862289291872],\n",
    " '60': [0.34698844791232597, 0.41897929538513573]}     #Patch TST v1\n",
    "\n",
    "\n",
    "'result_log\\Autoformer\\ecmp_stock.txt'\n",
    "{'10': [0.13350610889520653, 0.25984287671220135],\n",
    " '20': [0.20200920743789053, 0.3253066968959822],\n",
    " '40': [0.32407858315855265, 0.41575249232036965],\n",
    " '60': [0.39311297390032823, 0.46052118632155403]}     #Autoformer \n",
    "\n",
    "\n",
    "'result_log\\Informer\\ecmp_stock.txt'\n",
    "{'10': [1.224894627640155, 0.6743516214716603],\n",
    " '20': [1.4129749486668848, 0.7523451308969041],\n",
    " '40': [1.6858338479110053, 0.8610608063533273],\n",
    " '60': [2.022184497847314, 0.9609464230671735]}        #Informer\n",
    "\n",
    "\n",
    "{10: 5.636052806612471, \n",
    " 20: 5.596382728030144}    #DVA  omg cant use this"
   ]
  },
  {
   "cell_type": "markdown",
   "metadata": {},
   "source": [
    "## PCT log"
   ]
  },
  {
   "cell_type": "code",
   "execution_count": 28,
   "metadata": {},
   "outputs": [
    {
     "data": {
      "text/plain": [
       "{10: 0.9762935103245185,\n",
       " 20: 0.9783363226853626,\n",
       " 40: 0.9637559708994878,\n",
       " 60: 0.9552716524668143}"
      ]
     },
     "execution_count": 28,
     "metadata": {},
     "output_type": "execute_result"
    }
   ],
   "source": [
    "{'10': [1.0125709467790496, 0.7109686984142787],\n",
    " '20': [1.0449350791078218, 0.7153248992604269],\n",
    " '40': [1.068168761654639, 0.712965254212769]}    #ECMP  revin off  result_log\\EcmP_mk3\\ecmp_stock\\final_10_40_pct_xl_s40_revin.txt\n",
    "{'60': [1.0595059113603242, 0.7419622460721245]}  #ECMP  revin on  result_log\\EcmP_mk3\\ecmp_stock\\final_seq_60_pct_xl.txt\n",
    "\n",
    "\n",
    "{'10': [1.080351742010721, 0.7463258525855104],\n",
    " '20': [1.0773388634265308, 0.7467892169952393],\n",
    " '40': [1.0518272506519102, 0.7369517474107339],\n",
    " '60': [1.0426115148084265, 0.7341517646547774]}  #PatchTST \n",
    "\n",
    "{'10': [1.029358135352672, 0.7205219587809603],\n",
    " '20': [1.0243071256808831, 0.7196187041175197],\n",
    " '40': [1.0057641563700959, 0.7144720067440624],\n",
    " '60': [0.9948612420072018, 0.7109915824003623]}  #Autoformer\n",
    "\n",
    "\n",
    "{'10': [0.983496680855751, 0.7043920767978883],\n",
    " '20': [0.981861832066321, 0.7055761104738209],\n",
    " '40': [0.9671040012593001, 0.6993108450526923],\n",
    " '60': [0.9620522795848443, 0.6982525561896848]}  #informer\n",
    "\n",
    "\n",
    "{10: 0.9762935103245185,\n",
    " 20: 0.9783363226853626,\n",
    " 40: 0.9637559708994878,\n",
    " 60: 0.9552716524668143} #DVA\n"
   ]
  },
  {
   "cell_type": "code",
   "execution_count": null,
   "metadata": {},
   "outputs": [],
   "source": []
  }
 ],
 "metadata": {
  "kernelspec": {
   "display_name": "Pytorch_1_11",
   "language": "python",
   "name": "python3"
  },
  "language_info": {
   "codemirror_mode": {
    "name": "ipython",
    "version": 3
   },
   "file_extension": ".py",
   "mimetype": "text/x-python",
   "name": "python",
   "nbconvert_exporter": "python",
   "pygments_lexer": "ipython3",
   "version": "3.8.5"
  }
 },
 "nbformat": 4,
 "nbformat_minor": 2
}
