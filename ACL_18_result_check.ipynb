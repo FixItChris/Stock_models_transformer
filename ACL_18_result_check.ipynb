{
 "cells": [
  {
   "cell_type": "code",
   "execution_count": 56,
   "metadata": {},
   "outputs": [],
   "source": [
    "import numpy as np\n",
    "import pandas as pd"
   ]
  },
  {
   "cell_type": "code",
   "execution_count": 57,
   "metadata": {},
   "outputs": [],
   "source": [
    "file_path = r'result_log\\EcmP_mk3\\ecmp_stock\\test_l_l.txt'    #r\"result_log\\Informer\\ecmp_stock.txt\" "
   ]
  },
  {
   "cell_type": "code",
   "execution_count": 58,
   "metadata": {},
   "outputs": [
    {
     "data": {
      "text/plain": [
       "{'10': [array([ 5.90467973, 14.04906711]), 71],\n",
       " '20': [array([11.23225992, 19.51479981]), 71],\n",
       " '40': [array([20.54494018, 27.10305821]), 71],\n",
       " '60': [array([27.10355586, 31.51288614]), 71]}"
      ]
     },
     "execution_count": 58,
     "metadata": {},
     "output_type": "execute_result"
    }
   ],
   "source": [
    "f = open(file_path, 'r')\n",
    "\n",
    "lines = f.readlines()\n",
    "\n",
    "result_dict = {}\n",
    "\n",
    "check_limit = 1000\n",
    "\n",
    "i = 0\n",
    "ct = 0\n",
    "\n",
    "\n",
    "while i < len(lines) and ct < check_limit:\n",
    "\n",
    "    if len(lines[i].split('_')) > 5 :\n",
    "        \n",
    "        line_1 = lines[i].split('_')\n",
    "        line_2 = lines[i+1].split(', ')\n",
    "\n",
    "        pred_len = line_1[2]\n",
    "        mse = np.float64(line_2[0].split(':')[1])\n",
    "        mae = np.float64(line_2[1].split(':')[1])\n",
    "\n",
    "        if pred_len not in result_dict:\n",
    "            result_dict[pred_len] = [np.zeros(2, dtype=np.float64), 0]  # mse, mae, ct\n",
    "\n",
    "        \n",
    "        result_dict[pred_len][0][0] += mse\n",
    "        result_dict[pred_len][0][1] += mae\n",
    "        result_dict[pred_len][1] += 1\n",
    "\n",
    "        # print(mse/result_dict[pred_len][1], mae/result_dict[pred_len][1], type(mse), type(mae), type(result_dict[pred_len][1]))\n",
    "        # print(result_dict[pred_len])\n",
    "\n",
    "\n",
    "        ct += 1\n",
    "        i += 3\n",
    "\n",
    "    else:\n",
    "        i += 1\n",
    "    \n",
    "f.close()\n",
    "\n",
    "result_dict"
   ]
  },
  {
   "cell_type": "code",
   "execution_count": 59,
   "metadata": {},
   "outputs": [
    {
     "data": {
      "text/plain": [
       "{'10': [0.08316450328057842, 0.19787418461916312],\n",
       " '20': [0.15820084390243594, 0.27485633539167087],\n",
       " '40': [0.28936535461058077, 0.38173321419408623],\n",
       " '60': [0.38174022343272057, 0.4438434668200117]}"
      ]
     },
     "execution_count": 59,
     "metadata": {},
     "output_type": "execute_result"
    }
   ],
   "source": [
    "final_result = {}\n",
    "for key in result_dict:\n",
    "    final_result[key] = [result_dict[key][0][0]/result_dict[key][1] , result_dict[key][0][1]/result_dict[key][1] ]\n",
    "\n",
    "final_result\n"
   ]
  },
  {
   "cell_type": "code",
   "execution_count": 60,
   "metadata": {},
   "outputs": [
    {
     "data": {
      "text/plain": [
       "{'10': [0.06806169898400057, 0.17664511480801542],\n",
       " '20': [0.1379737985963133, 0.2545075453293156],\n",
       " '40': [0.2646219663872895, 0.36265326202125614],\n",
       " '60': [0.3750721264210805, 0.434088900003215]}"
      ]
     },
     "execution_count": 60,
     "metadata": {},
     "output_type": "execute_result"
    }
   ],
   "source": [
    "{'10': [0.0749773853860179, 0.18674399008528447],\n",
    " '20': [0.14426159017889853, 0.2641829145993565],\n",
    " '40': [0.26221268738842973, 0.3632862289291872],\n",
    " '60': [0.34698844791232597, 0.41897929538513573]}  #PATCH TST v1\n",
    "\n",
    "{'10': [0.06806169898400057, 0.17664511480801542],\n",
    " '20': [0.1379737985963133, 0.2545075453293156],\n",
    " '40': [0.2646219663872895, 0.36265326202125614],\n",
    " '60': [0.3750721264210805, 0.434088900003215]}   #PATCH TST v2"
   ]
  },
  {
   "cell_type": "code",
   "execution_count": 61,
   "metadata": {},
   "outputs": [
    {
     "data": {
      "text/plain": [
       "{'10': [0.08054448612867264, 0.19537864948137545],\n",
       " '20': [0.1527793646895025, 0.2736149878621521],\n",
       " '40': [0.28294707777988637, 0.3790052084540817],\n",
       " '60': [0.36335050662927015, 0.43327361974917666]}"
      ]
     },
     "execution_count": 61,
     "metadata": {},
     "output_type": "execute_result"
    }
   ],
   "source": [
    "{'10': [0.08054448612867264, 0.19537864948137545],\n",
    " '20': [0.1527793646895025, 0.2736149878621521],\n",
    " '40': [0.28294707777988637, 0.3790052084540817],\n",
    " '60': [0.36335050662927015, 0.43327361974917666]} #ECMP MK3 V1"
   ]
  },
  {
   "cell_type": "code",
   "execution_count": 62,
   "metadata": {},
   "outputs": [
    {
     "data": {
      "text/plain": [
       "{'10': [0.08054448612867264, 0.19537864948137545],\n",
       " '20': [0.1527793646895025, 0.2736149878621521],\n",
       " '40': [0.28294707777988637, 0.3790052084540817],\n",
       " '60': [0.36335050662927015, 0.43327361974917666]}"
      ]
     },
     "execution_count": 62,
     "metadata": {},
     "output_type": "execute_result"
    }
   ],
   "source": [
    "{'10': [0.08054448612867264, 0.19537864948137545],\n",
    " '20': [0.1527793646895025, 0.2736149878621521],\n",
    " '40': [0.28294707777988637, 0.3790052084540817],\n",
    " '60': [0.36335050662927015, 0.43327361974917666]}"
   ]
  },
  {
   "cell_type": "code",
   "execution_count": 63,
   "metadata": {},
   "outputs": [
    {
     "data": {
      "text/plain": [
       "{'10': [1.0377423970138326, 0.7317429121802835],\n",
       " '20': [1.0260855275041916, 0.7269675191710977],\n",
       " '40': [0.9831059413797715, 0.7116511586834403],\n",
       " '60': [0.9475351417765898, 0.7024764772723703]}"
      ]
     },
     "execution_count": 63,
     "metadata": {},
     "output_type": "execute_result"
    }
   ],
   "source": [
    "#v4\n",
    "{'10': [1.0377423970138326, 0.7317429121802835],\n",
    " '20': [1.0260855275041916, 0.7269675191710977],\n",
    " '40': [0.9831059413797715, 0.7116511586834403],\n",
    " '60': [0.9475351417765898, 0.7024764772723703]}"
   ]
  },
  {
   "cell_type": "code",
   "execution_count": null,
   "metadata": {},
   "outputs": [],
   "source": []
  }
 ],
 "metadata": {
  "kernelspec": {
   "display_name": "Pytorch_1_11",
   "language": "python",
   "name": "python3"
  },
  "language_info": {
   "codemirror_mode": {
    "name": "ipython",
    "version": 3
   },
   "file_extension": ".py",
   "mimetype": "text/x-python",
   "name": "python",
   "nbconvert_exporter": "python",
   "pygments_lexer": "ipython3",
   "version": "3.8.5"
  }
 },
 "nbformat": 4,
 "nbformat_minor": 2
}
