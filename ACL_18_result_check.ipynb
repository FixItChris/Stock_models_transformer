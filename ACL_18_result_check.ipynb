{
 "cells": [
  {
   "cell_type": "code",
   "execution_count": 28,
   "metadata": {},
   "outputs": [],
   "source": [
    "import numpy as np\n",
    "import pandas as pd"
   ]
  },
  {
   "cell_type": "code",
   "execution_count": 29,
   "metadata": {},
   "outputs": [],
   "source": [
    "file_path = r'result_log\\EcmP_mk3\\ecmp_stock_mix_pct\\t1_seq_60_xl.txt'  "
   ]
  },
  {
   "cell_type": "code",
   "execution_count": 30,
   "metadata": {},
   "outputs": [],
   "source": [
    "pct = True\n",
    "if pct:\n",
    "    pl_i = 3\n",
    "else:\n",
    "    pl_i = 2"
   ]
  },
  {
   "cell_type": "code",
   "execution_count": 31,
   "metadata": {},
   "outputs": [
    {
     "data": {
      "text/plain": [
       "{'60': [array([71.66551737, 51.1870912 ]), 71]}"
      ]
     },
     "execution_count": 31,
     "metadata": {},
     "output_type": "execute_result"
    }
   ],
   "source": [
    "f = open(file_path, 'r')\n",
    "\n",
    "lines = f.readlines()\n",
    "\n",
    "result_dict = {}\n",
    "\n",
    "check_limit = 1000\n",
    "\n",
    "i = 0\n",
    "ct = 0\n",
    "\n",
    "\n",
    "while i < len(lines) and ct < check_limit:\n",
    "\n",
    "    if len(lines[i].split('_')) > 5 :\n",
    "        \n",
    "        line_1 = lines[i].split('_')\n",
    "        line_2 = lines[i+1].split(', ')\n",
    "\n",
    "        pred_len = line_1[pl_i]\n",
    "        mse = np.float64(line_2[0].split(':')[1])\n",
    "        mae = np.float64(line_2[1].split(':')[1])\n",
    "\n",
    "        if pred_len not in result_dict:\n",
    "            result_dict[pred_len] = [np.zeros(2, dtype=np.float64), 0]  # mse, mae, ct\n",
    "\n",
    "        \n",
    "        result_dict[pred_len][0][0] += mse\n",
    "        result_dict[pred_len][0][1] += mae\n",
    "        result_dict[pred_len][1] += 1\n",
    "\n",
    "        # print(mse/result_dict[pred_len][1], mae/result_dict[pred_len][1], type(mse), type(mae), type(result_dict[pred_len][1]))\n",
    "        # print(result_dict[pred_len])\n",
    "\n",
    "\n",
    "        ct += 1\n",
    "        i += 3\n",
    "\n",
    "    else:\n",
    "        i += 1\n",
    "    \n",
    "f.close()\n",
    "\n",
    "result_dict"
   ]
  },
  {
   "cell_type": "code",
   "execution_count": 32,
   "metadata": {},
   "outputs": [
    {
     "data": {
      "text/plain": [
       "{'60': [1.0093734840482054, 0.720944946500617]}"
      ]
     },
     "execution_count": 32,
     "metadata": {},
     "output_type": "execute_result"
    }
   ],
   "source": [
    "final_result = {}\n",
    "for key in result_dict:\n",
    "    final_result[key] = [result_dict[key][0][0]/result_dict[key][1] , result_dict[key][0][1]/result_dict[key][1] ]\n",
    "\n",
    "final_result\n"
   ]
  },
  {
   "cell_type": "markdown",
   "metadata": {},
   "source": [
    "## Mix raw log"
   ]
  },
  {
   "cell_type": "code",
   "execution_count": 33,
   "metadata": {},
   "outputs": [],
   "source": [
    "mix_raw_log_l = [\n",
    "{'10': [0.0690710063274412, 0.17839710500983286],   #64\n",
    "    '20': [0.13521061592873082, 0.25537825777182277],   #64\n",
    "    '40': [0.2635432362005534, 0.364787185853216],  #xl\n",
    "    '60': [0.333790597328785, 0.41562228314053845]} #xl  #ecmp v1\\\n",
    ",\n",
    "{'10': [0.07513540764388457, 0.18726823707176765],\n",
    "    '20': [0.1450061819985063, 0.2645496417256728],\n",
    "    '40': [0.2686248190576394, 0.3656771437487972],\n",
    "    '60': [0.35874927510887805, 0.42563069931847947]}   #PatchTST\\n\",\n",
    ",\n",
    "{'10': [0.1292227408914289, 0.25838516867706474],\n",
    "    '20': [0.2112721208430512, 0.3260804279379442],\n",
    "    '40': [0.3134443444973776, 0.4103433995599478],\n",
    "    '60': [0.38978398179399293, 0.4592954568879705]}   #Autoformer\n",
    ",\n",
    "{'10': [1.5269764208720185, 0.7560676116968544],\n",
    "    '20': [1.4828249227098176, 0.8014524073248178],\n",
    "    '40': [1.8022921134940755, 0.9289577861487026],\n",
    "    '60': [2.350615150124674, 1.0924766668131654]}    #Informer\n",
    "\n",
    "]"
   ]
  },
  {
   "cell_type": "markdown",
   "metadata": {},
   "source": [
    "## Mix pct log"
   ]
  },
  {
   "cell_type": "code",
   "execution_count": 34,
   "metadata": {},
   "outputs": [],
   "source": [
    "mix_pct = [\n",
    "{'10': [0.9989929098478505, 0.708715988716609],\n",
    " '20': [1.0060551521224035, 0.7114344885651495],  #3 layers encoder\n",
    " '40': [1.016231677062075, 0.7117385935615486],  \n",
    " '60': [1.0093734840482054, 0.720944946500617]}  #revin on    #ecmp v1\n",
    ",\n",
    "\n",
    "{'10': [1.0660486924396435, 0.7405942384625824],\n",
    " '20': [1.0570164247297904, 0.7369471007669476],\n",
    " '40': [1.0272659248029683, 0.725262936571954],\n",
    " '60': [1.013876146623786, 0.720789264205476]}   #PatchTST\n",
    ",\n",
    "{'10': [1.1650539890561304, 0.7729455064719831],\n",
    " '20': [1.1484186477224592, 0.7730349801795583],\n",
    " '40': [1.0878558381342551, 0.751602764280749],\n",
    " '60': [1.0882896162884337, 0.7450747968445361]}   #Informer\n",
    ",\n",
    "{'10': [1.0144202757469365, 0.7163188276996075],\n",
    " '20': [1.0140405419007155, 0.7172929170266004],\n",
    " '40': [1.0039774057730821, 0.7142338584846174],\n",
    " '60': [0.9908792795219892, 0.7100594853851158]}  #Autoformer\n",
    "]"
   ]
  },
  {
   "cell_type": "markdown",
   "metadata": {},
   "source": [
    "## RAW Log"
   ]
  },
  {
   "cell_type": "code",
   "execution_count": 35,
   "metadata": {},
   "outputs": [],
   "source": [
    "# 'result_log\\EcmP_mk3\\ecmp_stock\\final_10_40_v1_dff_t2.txt'\n",
    "# 'result_log\\EcmP_mk3\\ecmp_stock\\final_seq_60_v1.txt'\n",
    "raw_log_l = [\n",
    "\n",
    "{'10': [0.06986033357515879, 0.1797839212165752],\n",
    " '20': [0.13419161343776528, 0.25539891547720195],\n",
    " '40': [0.2553188940608533, 0.35963834990078297],\n",
    " '60': [0.33873793937292107, 0.4185521456242447]}    #EcmP mk3 Linear None\n",
    "\n",
    ",\n",
    "\n",
    "# 'result_log\\PatchTST\\ecmp_stock\\test_1.txt'\n",
    "{'10': [0.0749773853860179, 0.18674399008528447],\n",
    " '20': [0.14426159017889853, 0.2641829145993565],\n",
    " '40': [0.26221268738842973, 0.3632862289291872],\n",
    " '60': [0.34698844791232597, 0.41897929538513573]}     #Patch TST v1\n",
    ",\n",
    "\n",
    "# 'result_log\\Autoformer\\ecmp_stock.txt'\n",
    "{'10': [0.13350610889520653, 0.25984287671220135],\n",
    " '20': [0.20200920743789053, 0.3253066968959822],\n",
    " '40': [0.32407858315855265, 0.41575249232036965],\n",
    " '60': [0.39311297390032823, 0.46052118632155403]}     #Autoformer \n",
    ",\n",
    "\n",
    "# 'result_log\\Informer\\ecmp_stock.txt'\n",
    "{'10': [1.224894627640155, 0.6743516214716603],\n",
    " '20': [1.4129749486668848, 0.7523451308969041],\n",
    " '40': [1.6858338479110053, 0.8610608063533273],\n",
    " '60': [2.022184497847314, 0.9609464230671735]}        #Informer\n",
    "\n",
    "\n",
    "]"
   ]
  },
  {
   "cell_type": "markdown",
   "metadata": {},
   "source": [
    "## PCT log"
   ]
  },
  {
   "cell_type": "code",
   "execution_count": 36,
   "metadata": {},
   "outputs": [],
   "source": [
    "pct_log = [\n",
    "\n",
    "{'10': [1.0125709467790496, 0.7109686984142787],\n",
    " '20': [1.0449350791078218, 0.7153248992604269],\n",
    " '40': [1.068168761654639, 0.712965254212769],   #ECMP  revin off  result_log\\EcmP_mk3\\ecmp_stock\\final_10_40_pct_xl_s40_revin.txt\n",
    " '60': [1.0595059113603242, 0.7419622460721245]}  #ECMP  revin on  result_log\\EcmP_mk3\\ecmp_stock\\final_seq_60_pct_xl.txt\n",
    "\n",
    ",\n",
    "{'10': [1.080351742010721, 0.7463258525855104],\n",
    " '20': [1.0773388634265308, 0.7467892169952393],\n",
    " '40': [1.0518272506519102, 0.7369517474107339],\n",
    " '60': [1.0426115148084265, 0.7341517646547774]}  #PatchTST \n",
    ",\n",
    "{'10': [1.029358135352672, 0.7205219587809603],\n",
    " '20': [1.0243071256808831, 0.7196187041175197],\n",
    " '40': [1.0057641563700959, 0.7144720067440624],\n",
    " '60': [0.9948612420072018, 0.7109915824003623]}  #Autoformer\n",
    ",\n",
    "\n",
    "{'10': [0.983496680855751, 0.7043920767978883],\n",
    " '20': [0.981861832066321, 0.7055761104738209],\n",
    " '40': [0.9671040012593001, 0.6993108450526923],\n",
    " '60': [0.9620522795848443, 0.6982525561896848]}  #informer\n",
    "\n",
    "\n",
    "]"
   ]
  },
  {
   "cell_type": "markdown",
   "metadata": {},
   "source": [
    "## improvement comparison"
   ]
  },
  {
   "cell_type": "code",
   "execution_count": 37,
   "metadata": {},
   "outputs": [],
   "source": [
    "imp_result = []\n",
    "\n",
    "#a - b\n",
    "a = pct_log    \n",
    "\n",
    "b = mix_pct\n",
    "\n",
    "for i in range(len(b)):\n",
    "\n",
    "    model_imp_t = 0\n",
    "\n",
    "    for key in b[i].keys():\n",
    "\n",
    "        model_imp_t += (a[i][key][0] - b[i][key][0])/a[i][key][0]\n",
    "\n",
    "    imp_result.append(model_imp_t/len(b[i].keys()))\n"
   ]
  },
  {
   "cell_type": "code",
   "execution_count": 38,
   "metadata": {},
   "outputs": [
    {
     "data": {
      "text/plain": [
       "[0.036639198628720344,\n",
       " 0.02075371552618405,\n",
       " -0.10713104463638444,\n",
       " -0.03307684376015278]"
      ]
     },
     "execution_count": 38,
     "metadata": {},
     "output_type": "execute_result"
    }
   ],
   "source": [
    "imp_result"
   ]
  },
  {
   "cell_type": "code",
   "execution_count": null,
   "metadata": {},
   "outputs": [],
   "source": []
  }
 ],
 "metadata": {
  "kernelspec": {
   "display_name": "Pytorch_1_11",
   "language": "python",
   "name": "python3"
  },
  "language_info": {
   "codemirror_mode": {
    "name": "ipython",
    "version": 3
   },
   "file_extension": ".py",
   "mimetype": "text/x-python",
   "name": "python",
   "nbconvert_exporter": "python",
   "pygments_lexer": "ipython3",
   "version": "3.8.5"
  }
 },
 "nbformat": 4,
 "nbformat_minor": 2
}
