{
 "cells": [
  {
   "cell_type": "code",
   "execution_count": 2,
   "metadata": {},
   "outputs": [
    {
     "name": "stderr",
     "output_type": "stream",
     "text": [
      "c:\\Users\\Vincent\\.conda\\envs\\Pytorch_1_11\\lib\\site-packages\\tqdm\\auto.py:22: TqdmWarning: IProgress not found. Please update jupyter and ipywidgets. See https://ipywidgets.readthedocs.io/en/stable/user_install.html\n",
      "  from .autonotebook import tqdm as notebook_tqdm\n"
     ]
    }
   ],
   "source": [
    "import pandas as pd\n",
    "import numpy as np\n",
    "import torch\n",
    "import os"
   ]
  },
  {
   "cell_type": "code",
   "execution_count": 5,
   "metadata": {},
   "outputs": [],
   "source": [
    "df = pd.read_csv(r'.\\data\\ACL-18 Ext\\2016\\AAPL.csv')"
   ]
  },
  {
   "cell_type": "code",
   "execution_count": 6,
   "metadata": {},
   "outputs": [
    {
     "data": {
      "text/html": [
       "<div>\n",
       "<style scoped>\n",
       "    .dataframe tbody tr th:only-of-type {\n",
       "        vertical-align: middle;\n",
       "    }\n",
       "\n",
       "    .dataframe tbody tr th {\n",
       "        vertical-align: top;\n",
       "    }\n",
       "\n",
       "    .dataframe thead th {\n",
       "        text-align: right;\n",
       "    }\n",
       "</style>\n",
       "<table border=\"1\" class=\"dataframe\">\n",
       "  <thead>\n",
       "    <tr style=\"text-align: right;\">\n",
       "      <th></th>\n",
       "      <th>open</th>\n",
       "      <th>high</th>\n",
       "      <th>low</th>\n",
       "      <th>close</th>\n",
       "      <th>volume</th>\n",
       "      <th>target</th>\n",
       "    </tr>\n",
       "  </thead>\n",
       "  <tbody>\n",
       "    <tr>\n",
       "      <th>count</th>\n",
       "      <td>756.000000</td>\n",
       "      <td>756.000000</td>\n",
       "      <td>756.000000</td>\n",
       "      <td>756.000000</td>\n",
       "      <td>7.560000e+02</td>\n",
       "      <td>756.000000</td>\n",
       "    </tr>\n",
       "    <tr>\n",
       "      <th>mean</th>\n",
       "      <td>0.043330</td>\n",
       "      <td>0.052523</td>\n",
       "      <td>0.033970</td>\n",
       "      <td>0.052679</td>\n",
       "      <td>5.113517e+07</td>\n",
       "      <td>0.000680</td>\n",
       "    </tr>\n",
       "    <tr>\n",
       "      <th>std</th>\n",
       "      <td>0.021404</td>\n",
       "      <td>0.021832</td>\n",
       "      <td>0.022434</td>\n",
       "      <td>1.532618</td>\n",
       "      <td>2.522074e+07</td>\n",
       "      <td>0.015113</td>\n",
       "    </tr>\n",
       "    <tr>\n",
       "      <th>min</th>\n",
       "      <td>-0.067628</td>\n",
       "      <td>-0.026255</td>\n",
       "      <td>-0.095834</td>\n",
       "      <td>-6.628837</td>\n",
       "      <td>1.147590e+07</td>\n",
       "      <td>-0.079927</td>\n",
       "    </tr>\n",
       "    <tr>\n",
       "      <th>25%</th>\n",
       "      <td>0.026816</td>\n",
       "      <td>0.035098</td>\n",
       "      <td>0.017897</td>\n",
       "      <td>-0.693701</td>\n",
       "      <td>3.381120e+07</td>\n",
       "      <td>-0.006615</td>\n",
       "    </tr>\n",
       "    <tr>\n",
       "      <th>50%</th>\n",
       "      <td>0.044796</td>\n",
       "      <td>0.053984</td>\n",
       "      <td>0.034119</td>\n",
       "      <td>0.066296</td>\n",
       "      <td>4.574995e+07</td>\n",
       "      <td>0.000691</td>\n",
       "    </tr>\n",
       "    <tr>\n",
       "      <th>75%</th>\n",
       "      <td>0.060674</td>\n",
       "      <td>0.068978</td>\n",
       "      <td>0.052589</td>\n",
       "      <td>0.877221</td>\n",
       "      <td>6.127398e+07</td>\n",
       "      <td>0.008684</td>\n",
       "    </tr>\n",
       "    <tr>\n",
       "      <th>max</th>\n",
       "      <td>0.156840</td>\n",
       "      <td>0.160484</td>\n",
       "      <td>0.141611</td>\n",
       "      <td>6.137894</td>\n",
       "      <td>2.663808e+08</td>\n",
       "      <td>0.081982</td>\n",
       "    </tr>\n",
       "  </tbody>\n",
       "</table>\n",
       "</div>"
      ],
      "text/plain": [
       "             open        high         low       close        volume  \\\n",
       "count  756.000000  756.000000  756.000000  756.000000  7.560000e+02   \n",
       "mean     0.043330    0.052523    0.033970    0.052679  5.113517e+07   \n",
       "std      0.021404    0.021832    0.022434    1.532618  2.522074e+07   \n",
       "min     -0.067628   -0.026255   -0.095834   -6.628837  1.147590e+07   \n",
       "25%      0.026816    0.035098    0.017897   -0.693701  3.381120e+07   \n",
       "50%      0.044796    0.053984    0.034119    0.066296  4.574995e+07   \n",
       "75%      0.060674    0.068978    0.052589    0.877221  6.127398e+07   \n",
       "max      0.156840    0.160484    0.141611    6.137894  2.663808e+08   \n",
       "\n",
       "           target  \n",
       "count  756.000000  \n",
       "mean     0.000680  \n",
       "std      0.015113  \n",
       "min     -0.079927  \n",
       "25%     -0.006615  \n",
       "50%      0.000691  \n",
       "75%      0.008684  \n",
       "max      0.081982  "
      ]
     },
     "execution_count": 6,
     "metadata": {},
     "output_type": "execute_result"
    }
   ],
   "source": [
    "df.describe()"
   ]
  },
  {
   "cell_type": "code",
   "execution_count": 4,
   "metadata": {},
   "outputs": [
    {
     "name": "stdout",
     "output_type": "stream",
     "text": [
      "85\n"
     ]
    }
   ],
   "source": [
    "folder = r'.\\data\\ACL_18_EXT\\2016'\n",
    "\n",
    "ct = 0\n",
    "\n",
    "for file in os.listdir(folder):\n",
    "    # f_path = os.path.join(folder, file)\n",
    "    # df = pd.read_csv(f_path)\n",
    "    # print(df.describe())\n",
    "    ct += 1\n",
    "\n",
    "print(ct)\n"
   ]
  },
  {
   "cell_type": "code",
   "execution_count": null,
   "metadata": {},
   "outputs": [],
   "source": []
  }
 ],
 "metadata": {
  "kernelspec": {
   "display_name": "Pytorch_1_11",
   "language": "python",
   "name": "python3"
  },
  "language_info": {
   "codemirror_mode": {
    "name": "ipython",
    "version": 3
   },
   "file_extension": ".py",
   "mimetype": "text/x-python",
   "name": "python",
   "nbconvert_exporter": "python",
   "pygments_lexer": "ipython3",
   "version": "3.8.5"
  }
 },
 "nbformat": 4,
 "nbformat_minor": 2
}
